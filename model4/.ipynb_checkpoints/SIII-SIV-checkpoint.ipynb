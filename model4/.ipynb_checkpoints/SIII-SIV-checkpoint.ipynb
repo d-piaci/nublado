{
 "cells": [
  {
   "cell_type": "code",
   "execution_count": 53,
   "metadata": {},
   "outputs": [],
   "source": [
    "import pandas as pd\n",
    "import numpy as np\n",
    "make='model4'"
   ]
  },
  {
   "cell_type": "code",
   "execution_count": 54,
   "metadata": {},
   "outputs": [],
   "source": [
    "#returns ovr table with Temperature, Htot, hydrogen density, e density, and OVI density\n",
    "\n",
    "vari='.ovr'\n",
    "table=pd.read_csv('{0}{1}'.format(make, vari),delimiter='\t')\n",
    "ovr=table.loc[:,['#depth','Te','Htot','hden','eden','O3']]\n",
    "Temp=np.log10(ovr.loc[0,\"Te\"])\n",
    "#ovr"
   ]
  },
  {
   "cell_type": "code",
   "execution_count": 55,
   "metadata": {},
   "outputs": [],
   "source": [
    "#returns emis table with Emissivity of H 1 4861.33A, H 1 6562.81A, O 6 1031.00A, O 6 1037.62A\n",
    "\n",
    "vari='.emis'\n",
    "emis=pd.read_csv('{0}{1}'.format(make, vari),delimiter='\t')\n",
    "#emis.columns=['#depth','H1-4861.33A', 'H1-6562.81A', 'O6-1031.91A','O6-1037.62A']\n",
    "emis.columns=['depth','SI 3 1206.50A','SI 4 1393.75A','SI 4 1402.77A']\n",
    "\n",
    "#isolates the 1031 and 1037 lines as independent tables\n",
    "line1206= emis.loc[:,'SI 3 1206.50A']\n",
    "line1393= emis.loc[:,'SI 4 1393.75A']\n",
    "line1402= emis.loc[:,'SI 4 1402.77A']\n",
    "\n",
    "\n",
    "#line4958\n",
    "#line5006\n",
    "#emis"
   ]
  },
  {
   "cell_type": "code",
   "execution_count": 56,
   "metadata": {},
   "outputs": [],
   "source": [
    "#returns eleO table with O\tO+\tO+2\tO+3\tO+4\tO+5\tO+6\tO+7\tO+8\tO[1]\tO[2]\tO[3] probabilites for each zone\n",
    "vari='.ele_Si'\n",
    "ele=pd.read_csv('{0}{1}'.format(make,vari),delimiter='\t')\n",
    "\n",
    "#returns table OVI_prob with OVI probabilites for each zone\n",
    "\n",
    "SiIII_prob = ele.loc[:,'Si+2']\n",
    "SiIV_prob = ele.loc[:,'Si+3']\n"
   ]
  },
  {
   "cell_type": "code",
   "execution_count": 57,
   "metadata": {},
   "outputs": [],
   "source": [
    "Si3frac=np.average(SiIII_prob.values)\n",
    "Si4frac=np.average(SiIV_prob.values)\n",
    "#N5frac=(NV_prob.loc[:,'N+4'].values).max()\n",
    "eden=np.average(ovr.loc[:,'eden'].values)\n",
    "emis1206=np.average(line1206.values)\n",
    "emis1393=np.average(line1393.values)\n",
    "emis1402=np.average(line1402.values)\n",
    "\n",
    "#emis1238=(line1238.values).max()\n",
    "#emis1242=(line1242.values).max()\n",
    "\n",
    "hden=np.average(ovr.loc[:,'hden'].values)"
   ]
  },
  {
   "cell_type": "code",
   "execution_count": 58,
   "metadata": {},
   "outputs": [],
   "source": [
    "SimnDatSi3=[hden,eden,Si3frac,emis1206]\n",
    "SimnDatSi4=[hden,eden,Si4frac,emis1393,emis1402]\n",
    "N3matrix={'H Density Log /cm^3':hden,\n",
    "          'e Density Log /cm^3':eden,\n",
    "          'SiIII Probability':Si3frac,\n",
    "          'SiIII 1206 Emis':emis1206}\n",
    "N5matrix={'H Density Log /cm^3':hden,\n",
    "          'e Density Log /cm^3':eden,\n",
    "          'SiIV Probability':Si4frac,\n",
    "          'SiIV 1393 Emis':emis1393,\n",
    "          'SiIV 1402 Emis':emis1402}"
   ]
  },
  {
   "cell_type": "code",
   "execution_count": 67,
   "metadata": {},
   "outputs": [],
   "source": [
    "N3labels=np.array(['H Density Log /cm^3','e Density Log /cm^3','SiIII Probability','SiIII 1206 Emis'])\n",
    "N5labels=np.array(['H Density Log /cm^3','e Density Log /cm^3','SiIV Probability','SiIV 1393 Emis','SiIV 1402 Emis'])"
   ]
  },
  {
   "cell_type": "code",
   "execution_count": 60,
   "metadata": {},
   "outputs": [],
   "source": [
    "location=location+1\n",
    "Si3_Table.insert(location,f\"Temp:1e{Temp:1.1f} K\",SimnDatSi3)\n",
    "Si4_Table.insert(location,f\"Temp:1e{Temp:1.1f} K\",SimnDatSi4)"
   ]
  },
  {
   "cell_type": "code",
   "execution_count": 70,
   "metadata": {},
   "outputs": [
    {
     "data": {
      "text/html": [
       "<div>\n",
       "<style scoped>\n",
       "    .dataframe tbody tr th:only-of-type {\n",
       "        vertical-align: middle;\n",
       "    }\n",
       "\n",
       "    .dataframe tbody tr th {\n",
       "        vertical-align: top;\n",
       "    }\n",
       "\n",
       "    .dataframe thead th {\n",
       "        text-align: right;\n",
       "    }\n",
       "</style>\n",
       "<table border=\"1\" class=\"dataframe\">\n",
       "  <thead>\n",
       "    <tr style=\"text-align: right;\">\n",
       "      <th></th>\n",
       "      <th>Temp:1e4.0 K</th>\n",
       "      <th>Temp:1e4.5 K</th>\n",
       "      <th>Temp:1e5.0 K</th>\n",
       "      <th>Temp:1e5.5 K</th>\n",
       "      <th>Temp:1e6.0 K</th>\n",
       "    </tr>\n",
       "  </thead>\n",
       "  <tbody>\n",
       "    <tr>\n",
       "      <th>H Density Log /cm^3</th>\n",
       "      <td>3.162300e-03</td>\n",
       "      <td>3.162300e-03</td>\n",
       "      <td>3.162300e-03</td>\n",
       "      <td>3.162300e-03</td>\n",
       "      <td>3.162300e-03</td>\n",
       "    </tr>\n",
       "    <tr>\n",
       "      <th>e Density Log /cm^3</th>\n",
       "      <td>3.211145e-03</td>\n",
       "      <td>3.470518e-03</td>\n",
       "      <td>3.779224e-03</td>\n",
       "      <td>3.796200e-03</td>\n",
       "      <td>3.796791e-03</td>\n",
       "    </tr>\n",
       "    <tr>\n",
       "      <th>NIII Probability</th>\n",
       "      <td>1.610000e-01</td>\n",
       "      <td>8.650000e-01</td>\n",
       "      <td>7.550000e-03</td>\n",
       "      <td>9.020000e-06</td>\n",
       "      <td>6.469091e-11</td>\n",
       "    </tr>\n",
       "    <tr>\n",
       "      <th>NIII 989 Emis</th>\n",
       "      <td>1.773052e-32</td>\n",
       "      <td>4.415564e-30</td>\n",
       "      <td>4.766355e-31</td>\n",
       "      <td>9.736809e-34</td>\n",
       "      <td>7.778209e-39</td>\n",
       "    </tr>\n",
       "  </tbody>\n",
       "</table>\n",
       "</div>"
      ],
      "text/plain": [
       "                     Temp:1e4.0 K  Temp:1e4.5 K  Temp:1e5.0 K  Temp:1e5.5 K  \\\n",
       "H Density Log /cm^3  3.162300e-03  3.162300e-03  3.162300e-03  3.162300e-03   \n",
       "e Density Log /cm^3  3.211145e-03  3.470518e-03  3.779224e-03  3.796200e-03   \n",
       "NIII Probability     1.610000e-01  8.650000e-01  7.550000e-03  9.020000e-06   \n",
       "NIII 989 Emis        1.773052e-32  4.415564e-30  4.766355e-31  9.736809e-34   \n",
       "\n",
       "                     Temp:1e6.0 K  \n",
       "H Density Log /cm^3  3.162300e-03  \n",
       "e Density Log /cm^3  3.796791e-03  \n",
       "NIII Probability     6.469091e-11  \n",
       "NIII 989 Emis        7.778209e-39  "
      ]
     },
     "execution_count": 70,
     "metadata": {},
     "output_type": "execute_result"
    }
   ],
   "source": [
    "Si3_Table #3.0 [factor=-2] on"
   ]
  },
  {
   "cell_type": "code",
   "execution_count": 72,
   "metadata": {},
   "outputs": [
    {
     "data": {
      "text/html": [
       "<div>\n",
       "<style scoped>\n",
       "    .dataframe tbody tr th:only-of-type {\n",
       "        vertical-align: middle;\n",
       "    }\n",
       "\n",
       "    .dataframe tbody tr th {\n",
       "        vertical-align: top;\n",
       "    }\n",
       "\n",
       "    .dataframe thead th {\n",
       "        text-align: right;\n",
       "    }\n",
       "</style>\n",
       "<table border=\"1\" class=\"dataframe\">\n",
       "  <thead>\n",
       "    <tr style=\"text-align: right;\">\n",
       "      <th></th>\n",
       "      <th>Temp:1e4.0 K</th>\n",
       "      <th>Temp:1e4.5 K</th>\n",
       "      <th>Temp:1e5.0 K</th>\n",
       "      <th>Temp:1e5.5 K</th>\n",
       "      <th>Temp:1e6.0 K</th>\n",
       "    </tr>\n",
       "  </thead>\n",
       "  <tbody>\n",
       "    <tr>\n",
       "      <th>H Density Log /cm^3</th>\n",
       "      <td>3.162300e-03</td>\n",
       "      <td>3.162300e-03</td>\n",
       "      <td>3.162300e-03</td>\n",
       "      <td>3.162300e-03</td>\n",
       "      <td>3.162300e-03</td>\n",
       "    </tr>\n",
       "    <tr>\n",
       "      <th>e Density Log /cm^3</th>\n",
       "      <td>3.211145e-03</td>\n",
       "      <td>3.470518e-03</td>\n",
       "      <td>3.779224e-03</td>\n",
       "      <td>3.796200e-03</td>\n",
       "      <td>3.796791e-03</td>\n",
       "    </tr>\n",
       "    <tr>\n",
       "      <th>NV Probability</th>\n",
       "      <td>3.399091e-03</td>\n",
       "      <td>7.190000e-02</td>\n",
       "      <td>1.530000e-02</td>\n",
       "      <td>8.460000e-04</td>\n",
       "      <td>7.730000e-08</td>\n",
       "    </tr>\n",
       "    <tr>\n",
       "      <th>NV 1238 Emis</th>\n",
       "      <td>2.270897e-34</td>\n",
       "      <td>3.889203e-31</td>\n",
       "      <td>6.232479e-31</td>\n",
       "      <td>4.880900e-32</td>\n",
       "      <td>4.284297e-36</td>\n",
       "    </tr>\n",
       "    <tr>\n",
       "      <th>NV 1242 Emis</th>\n",
       "      <td>1.147282e-34</td>\n",
       "      <td>1.976291e-31</td>\n",
       "      <td>3.113661e-31</td>\n",
       "      <td>2.426697e-32</td>\n",
       "      <td>2.129300e-36</td>\n",
       "    </tr>\n",
       "  </tbody>\n",
       "</table>\n",
       "</div>"
      ],
      "text/plain": [
       "                     Temp:1e4.0 K  Temp:1e4.5 K  Temp:1e5.0 K  Temp:1e5.5 K  \\\n",
       "H Density Log /cm^3  3.162300e-03  3.162300e-03  3.162300e-03  3.162300e-03   \n",
       "e Density Log /cm^3  3.211145e-03  3.470518e-03  3.779224e-03  3.796200e-03   \n",
       "NV Probability       3.399091e-03  7.190000e-02  1.530000e-02  8.460000e-04   \n",
       "NV 1238 Emis         2.270897e-34  3.889203e-31  6.232479e-31  4.880900e-32   \n",
       "NV 1242 Emis         1.147282e-34  1.976291e-31  3.113661e-31  2.426697e-32   \n",
       "\n",
       "                     Temp:1e6.0 K  \n",
       "H Density Log /cm^3  3.162300e-03  \n",
       "e Density Log /cm^3  3.796791e-03  \n",
       "NV Probability       7.730000e-08  \n",
       "NV 1238 Emis         4.284297e-36  \n",
       "NV 1242 Emis         2.129300e-36  "
      ]
     },
     "execution_count": 72,
     "metadata": {},
     "output_type": "execute_result"
    }
   ],
   "source": [
    "Si4_Table"
   ]
  },
  {
   "cell_type": "code",
   "execution_count": null,
   "metadata": {},
   "outputs": [],
   "source": []
  },
  {
   "cell_type": "markdown",
   "metadata": {},
   "source": [
    "## Run once per line"
   ]
  },
  {
   "cell_type": "code",
   "execution_count": 15,
   "metadata": {},
   "outputs": [],
   "source": [
    "Si3_Table=pd.DataFrame(data=N3matrix,index={f\"Temp:1e{Temp:1.1f} K\"}).transpose()\n",
    "Si3_Table=pd.DataFrame(data=N5matrix,index={f\"Temp:1e{Temp:1.1f} K\"}).transpose()\n",
    "\n",
    "#meta.rename(index={'Temp'})\n"
   ]
  },
  {
   "cell_type": "code",
   "execution_count": 29,
   "metadata": {},
   "outputs": [],
   "source": [
    "location=0"
   ]
  },
  {
   "cell_type": "code",
   "execution_count": null,
   "metadata": {},
   "outputs": [],
   "source": []
  },
  {
   "cell_type": "code",
   "execution_count": null,
   "metadata": {},
   "outputs": [],
   "source": []
  },
  {
   "cell_type": "code",
   "execution_count": 19,
   "metadata": {},
   "outputs": [],
   "source": [
    "C3_Table=pd.read_csv('./DataTables/CIIITemp(3-6).csv').set_index(C3labels)\n",
    "C4_Table=pd.read_csv('./DataTables/CIVTemp(3-6).csv').set_index(C4labels)"
   ]
  },
  {
   "cell_type": "code",
   "execution_count": 64,
   "metadata": {},
   "outputs": [],
   "source": [
    "N3_Table.to_csv('./DataTables/NIIITemp(3-6).csv',index=True)\n",
    "N5_Table.to_csv('./DataTables/NVTemp(3-6).csv',index=True)"
   ]
  },
  {
   "cell_type": "code",
   "execution_count": 12,
   "metadata": {},
   "outputs": [],
   "source": [
    "def highlight_greaterthan(s,column):\n",
    "    is_max = pd.Series(data=False, index=s.index)\n",
    "    is_max[column] = s.loc[column] < 10**-10\n",
    "    return ['background-color: cyan' if is_max.any() else '' for v in is_max]"
   ]
  },
  {
   "cell_type": "code",
   "execution_count": 13,
   "metadata": {},
   "outputs": [
    {
     "data": {
      "text/html": [
       "<style  type=\"text/css\" >\n",
       "    #T_0fc763ee_d834_11eb_9fe6_acde48001122row3_col0 {\n",
       "            background-color:  cyan;\n",
       "        }    #T_0fc763ee_d834_11eb_9fe6_acde48001122row3_col1 {\n",
       "            background-color:  cyan;\n",
       "        }    #T_0fc763ee_d834_11eb_9fe6_acde48001122row3_col2 {\n",
       "            background-color:  cyan;\n",
       "        }    #T_0fc763ee_d834_11eb_9fe6_acde48001122row3_col3 {\n",
       "            background-color:  cyan;\n",
       "        }    #T_0fc763ee_d834_11eb_9fe6_acde48001122row3_col4 {\n",
       "            background-color:  cyan;\n",
       "        }</style><table id=\"T_0fc763ee_d834_11eb_9fe6_acde48001122\" ><thead>    <tr>        <th class=\"blank level0\" ></th>        <th class=\"col_heading level0 col0\" >Temp:1e4.0 K</th>        <th class=\"col_heading level0 col1\" >Temp:1e4.5 K</th>        <th class=\"col_heading level0 col2\" >Temp:1e5.0 K</th>        <th class=\"col_heading level0 col3\" >Temp:1e5.5 K</th>        <th class=\"col_heading level0 col4\" >Temp:1e6.0 K</th>    </tr></thead><tbody>\n",
       "                <tr>\n",
       "                        <th id=\"T_0fc763ee_d834_11eb_9fe6_acde48001122level0_row0\" class=\"row_heading level0 row0\" >H Density Log /cm^3</th>\n",
       "                        <td id=\"T_0fc763ee_d834_11eb_9fe6_acde48001122row0_col0\" class=\"data row0 col0\" >0.0031623</td>\n",
       "                        <td id=\"T_0fc763ee_d834_11eb_9fe6_acde48001122row0_col1\" class=\"data row0 col1\" >0.0031623</td>\n",
       "                        <td id=\"T_0fc763ee_d834_11eb_9fe6_acde48001122row0_col2\" class=\"data row0 col2\" >0.0031623</td>\n",
       "                        <td id=\"T_0fc763ee_d834_11eb_9fe6_acde48001122row0_col3\" class=\"data row0 col3\" >0.0031623</td>\n",
       "                        <td id=\"T_0fc763ee_d834_11eb_9fe6_acde48001122row0_col4\" class=\"data row0 col4\" >0.0031623</td>\n",
       "            </tr>\n",
       "            <tr>\n",
       "                        <th id=\"T_0fc763ee_d834_11eb_9fe6_acde48001122level0_row1\" class=\"row_heading level0 row1\" >e Density Log /cm^3</th>\n",
       "                        <td id=\"T_0fc763ee_d834_11eb_9fe6_acde48001122row1_col0\" class=\"data row1 col0\" >0.00321115</td>\n",
       "                        <td id=\"T_0fc763ee_d834_11eb_9fe6_acde48001122row1_col1\" class=\"data row1 col1\" >0.00347052</td>\n",
       "                        <td id=\"T_0fc763ee_d834_11eb_9fe6_acde48001122row1_col2\" class=\"data row1 col2\" >0.00377922</td>\n",
       "                        <td id=\"T_0fc763ee_d834_11eb_9fe6_acde48001122row1_col3\" class=\"data row1 col3\" >0.0037962</td>\n",
       "                        <td id=\"T_0fc763ee_d834_11eb_9fe6_acde48001122row1_col4\" class=\"data row1 col4\" >0.00379679</td>\n",
       "            </tr>\n",
       "            <tr>\n",
       "                        <th id=\"T_0fc763ee_d834_11eb_9fe6_acde48001122level0_row2\" class=\"row_heading level0 row2\" >CIII Probability</th>\n",
       "                        <td id=\"T_0fc763ee_d834_11eb_9fe6_acde48001122row2_col0\" class=\"data row2 col0\" >0.31</td>\n",
       "                        <td id=\"T_0fc763ee_d834_11eb_9fe6_acde48001122row2_col1\" class=\"data row2 col1\" >0.281</td>\n",
       "                        <td id=\"T_0fc763ee_d834_11eb_9fe6_acde48001122row2_col2\" class=\"data row2 col2\" >0.245</td>\n",
       "                        <td id=\"T_0fc763ee_d834_11eb_9fe6_acde48001122row2_col3\" class=\"data row2 col3\" >2.87e-05</td>\n",
       "                        <td id=\"T_0fc763ee_d834_11eb_9fe6_acde48001122row2_col4\" class=\"data row2 col4\" >8.85e-08</td>\n",
       "            </tr>\n",
       "            <tr>\n",
       "                        <th id=\"T_0fc763ee_d834_11eb_9fe6_acde48001122level0_row3\" class=\"row_heading level0 row3\" >CIII 977 Emis</th>\n",
       "                        <td id=\"T_0fc763ee_d834_11eb_9fe6_acde48001122row3_col0\" class=\"data row3 col0\" >4.91724e-32</td>\n",
       "                        <td id=\"T_0fc763ee_d834_11eb_9fe6_acde48001122row3_col1\" class=\"data row3 col1\" >2.49372e-30</td>\n",
       "                        <td id=\"T_0fc763ee_d834_11eb_9fe6_acde48001122row3_col2\" class=\"data row3 col2\" >4.18777e-29</td>\n",
       "                        <td id=\"T_0fc763ee_d834_11eb_9fe6_acde48001122row3_col3\" class=\"data row3 col3\" >9.7023e-33</td>\n",
       "                        <td id=\"T_0fc763ee_d834_11eb_9fe6_acde48001122row3_col4\" class=\"data row3 col4\" >3.3251e-35</td>\n",
       "            </tr>\n",
       "    </tbody></table>"
      ],
      "text/plain": [
       "<pandas.io.formats.style.Styler at 0x7fef56f686d0>"
      ]
     },
     "execution_count": 13,
     "metadata": {},
     "output_type": "execute_result"
    }
   ],
   "source": [
    "C3_Table.style.apply(highlight_greaterthan,column='Temp:1e4.5 K', axis=1)"
   ]
  },
  {
   "cell_type": "code",
   "execution_count": 14,
   "metadata": {},
   "outputs": [
    {
     "data": {
      "text/html": [
       "<style  type=\"text/css\" >\n",
       "    #T_10284f56_d834_11eb_9fe6_acde48001122row3_col0 {\n",
       "            background-color:  cyan;\n",
       "        }    #T_10284f56_d834_11eb_9fe6_acde48001122row3_col1 {\n",
       "            background-color:  cyan;\n",
       "        }    #T_10284f56_d834_11eb_9fe6_acde48001122row3_col2 {\n",
       "            background-color:  cyan;\n",
       "        }    #T_10284f56_d834_11eb_9fe6_acde48001122row3_col3 {\n",
       "            background-color:  cyan;\n",
       "        }    #T_10284f56_d834_11eb_9fe6_acde48001122row3_col4 {\n",
       "            background-color:  cyan;\n",
       "        }    #T_10284f56_d834_11eb_9fe6_acde48001122row4_col0 {\n",
       "            background-color:  cyan;\n",
       "        }    #T_10284f56_d834_11eb_9fe6_acde48001122row4_col1 {\n",
       "            background-color:  cyan;\n",
       "        }    #T_10284f56_d834_11eb_9fe6_acde48001122row4_col2 {\n",
       "            background-color:  cyan;\n",
       "        }    #T_10284f56_d834_11eb_9fe6_acde48001122row4_col3 {\n",
       "            background-color:  cyan;\n",
       "        }    #T_10284f56_d834_11eb_9fe6_acde48001122row4_col4 {\n",
       "            background-color:  cyan;\n",
       "        }</style><table id=\"T_10284f56_d834_11eb_9fe6_acde48001122\" ><thead>    <tr>        <th class=\"blank level0\" ></th>        <th class=\"col_heading level0 col0\" >Temp:1e4.0 K</th>        <th class=\"col_heading level0 col1\" >Temp:1e4.5 K</th>        <th class=\"col_heading level0 col2\" >Temp:1e5.0 K</th>        <th class=\"col_heading level0 col3\" >Temp:1e5.5 K</th>        <th class=\"col_heading level0 col4\" >Temp:1e6.0 K</th>    </tr></thead><tbody>\n",
       "                <tr>\n",
       "                        <th id=\"T_10284f56_d834_11eb_9fe6_acde48001122level0_row0\" class=\"row_heading level0 row0\" >H Density Log /cm^3</th>\n",
       "                        <td id=\"T_10284f56_d834_11eb_9fe6_acde48001122row0_col0\" class=\"data row0 col0\" >0.0031623</td>\n",
       "                        <td id=\"T_10284f56_d834_11eb_9fe6_acde48001122row0_col1\" class=\"data row0 col1\" >0.0031623</td>\n",
       "                        <td id=\"T_10284f56_d834_11eb_9fe6_acde48001122row0_col2\" class=\"data row0 col2\" >0.0031623</td>\n",
       "                        <td id=\"T_10284f56_d834_11eb_9fe6_acde48001122row0_col3\" class=\"data row0 col3\" >0.0031623</td>\n",
       "                        <td id=\"T_10284f56_d834_11eb_9fe6_acde48001122row0_col4\" class=\"data row0 col4\" >0.0031623</td>\n",
       "            </tr>\n",
       "            <tr>\n",
       "                        <th id=\"T_10284f56_d834_11eb_9fe6_acde48001122level0_row1\" class=\"row_heading level0 row1\" >e Density Log /cm^3</th>\n",
       "                        <td id=\"T_10284f56_d834_11eb_9fe6_acde48001122row1_col0\" class=\"data row1 col0\" >0.00321115</td>\n",
       "                        <td id=\"T_10284f56_d834_11eb_9fe6_acde48001122row1_col1\" class=\"data row1 col1\" >0.00347052</td>\n",
       "                        <td id=\"T_10284f56_d834_11eb_9fe6_acde48001122row1_col2\" class=\"data row1 col2\" >0.00377922</td>\n",
       "                        <td id=\"T_10284f56_d834_11eb_9fe6_acde48001122row1_col3\" class=\"data row1 col3\" >0.0037962</td>\n",
       "                        <td id=\"T_10284f56_d834_11eb_9fe6_acde48001122row1_col4\" class=\"data row1 col4\" >0.00379679</td>\n",
       "            </tr>\n",
       "            <tr>\n",
       "                        <th id=\"T_10284f56_d834_11eb_9fe6_acde48001122level0_row2\" class=\"row_heading level0 row2\" >CIII Probability</th>\n",
       "                        <td id=\"T_10284f56_d834_11eb_9fe6_acde48001122row2_col0\" class=\"data row2 col0\" >0.000211</td>\n",
       "                        <td id=\"T_10284f56_d834_11eb_9fe6_acde48001122row2_col1\" class=\"data row2 col1\" >0.000954485</td>\n",
       "                        <td id=\"T_10284f56_d834_11eb_9fe6_acde48001122row2_col2\" class=\"data row2 col2\" >0.198</td>\n",
       "                        <td id=\"T_10284f56_d834_11eb_9fe6_acde48001122row2_col3\" class=\"data row2 col3\" >0.00274</td>\n",
       "                        <td id=\"T_10284f56_d834_11eb_9fe6_acde48001122row2_col4\" class=\"data row2 col4\" >0.000157</td>\n",
       "            </tr>\n",
       "            <tr>\n",
       "                        <th id=\"T_10284f56_d834_11eb_9fe6_acde48001122level0_row3\" class=\"row_heading level0 row3\" >CIV 1548 Emis</th>\n",
       "                        <td id=\"T_10284f56_d834_11eb_9fe6_acde48001122row3_col0\" class=\"data row3 col0\" >5.25092e-35</td>\n",
       "                        <td id=\"T_10284f56_d834_11eb_9fe6_acde48001122row3_col1\" class=\"data row3 col1\" >2.5043e-32</td>\n",
       "                        <td id=\"T_10284f56_d834_11eb_9fe6_acde48001122row3_col2\" class=\"data row3 col2\" >2.92093e-29</td>\n",
       "                        <td id=\"T_10284f56_d834_11eb_9fe6_acde48001122row3_col3\" class=\"data row3 col3\" >5.0939e-31</td>\n",
       "                        <td id=\"T_10284f56_d834_11eb_9fe6_acde48001122row3_col4\" class=\"data row3 col4\" >2.6517e-32</td>\n",
       "            </tr>\n",
       "            <tr>\n",
       "                        <th id=\"T_10284f56_d834_11eb_9fe6_acde48001122level0_row4\" class=\"row_heading level0 row4\" >CIV 1551 Emis</th>\n",
       "                        <td id=\"T_10284f56_d834_11eb_9fe6_acde48001122row4_col0\" class=\"data row4 col0\" >2.64139e-35</td>\n",
       "                        <td id=\"T_10284f56_d834_11eb_9fe6_acde48001122row4_col1\" class=\"data row4 col1\" >1.25591e-32</td>\n",
       "                        <td id=\"T_10284f56_d834_11eb_9fe6_acde48001122row4_col2\" class=\"data row4 col2\" >1.45811e-29</td>\n",
       "                        <td id=\"T_10284f56_d834_11eb_9fe6_acde48001122row4_col3\" class=\"data row4 col3\" >2.5398e-31</td>\n",
       "                        <td id=\"T_10284f56_d834_11eb_9fe6_acde48001122row4_col4\" class=\"data row4 col4\" >1.3254e-32</td>\n",
       "            </tr>\n",
       "    </tbody></table>"
      ],
      "text/plain": [
       "<pandas.io.formats.style.Styler at 0x7fef57b3b450>"
      ]
     },
     "execution_count": 14,
     "metadata": {},
     "output_type": "execute_result"
    }
   ],
   "source": [
    "C4_Table.style.apply(highlight_greaterthan,column='Temp:1e4.5 K', axis=1)"
   ]
  },
  {
   "cell_type": "code",
   "execution_count": 23,
   "metadata": {},
   "outputs": [
    {
     "ename": "NameError",
     "evalue": "name 'OIIIfracs' is not defined",
     "output_type": "error",
     "traceback": [
      "\u001b[0;31m------------------------------------------------------------\u001b[0m",
      "\u001b[0;31mNameError\u001b[0m                  Traceback (most recent call last)",
      "\u001b[0;32m<ipython-input-23-18d5b3093dbe>\u001b[0m in \u001b[0;36m<module>\u001b[0;34m\u001b[0m\n\u001b[1;32m     17\u001b[0m     \u001b[0mhDen\u001b[0m\u001b[0;34m=\u001b[0m\u001b[0;36m3.162300e-03\u001b[0m\u001b[0;34m\u001b[0m\u001b[0;34m\u001b[0m\u001b[0m\n\u001b[1;32m     18\u001b[0m \u001b[0;34m\u001b[0m\u001b[0m\n\u001b[0;32m---> 19\u001b[0;31m     \u001b[0mnOIII\u001b[0m\u001b[0;34m=\u001b[0m\u001b[0mn_ion\u001b[0m\u001b[0;34m(\u001b[0m\u001b[0;34m'O'\u001b[0m\u001b[0;34m,\u001b[0m\u001b[0mhDen\u001b[0m\u001b[0;34m,\u001b[0m\u001b[0mOIIIfracs\u001b[0m\u001b[0;34m[\u001b[0m\u001b[0mi\u001b[0m\u001b[0;34m]\u001b[0m\u001b[0;34m)\u001b[0m\u001b[0;34m\u001b[0m\u001b[0;34m\u001b[0m\u001b[0m\n\u001b[0m\u001b[1;32m     20\u001b[0m     \u001b[0mcalc\u001b[0m\u001b[0;34m=\u001b[0m\u001b[0mEmist\u001b[0m\u001b[0;34m(\u001b[0m\u001b[0medens\u001b[0m\u001b[0;34m[\u001b[0m\u001b[0mi\u001b[0m\u001b[0;34m]\u001b[0m\u001b[0;34m,\u001b[0m\u001b[0mTemperature\u001b[0m\u001b[0;34m[\u001b[0m\u001b[0mi\u001b[0m\u001b[0;34m]\u001b[0m\u001b[0;34m,\u001b[0m\u001b[0mYcalOIII\u001b[0m\u001b[0;34m,\u001b[0m\u001b[0mEOIII2P3P\u001b[0m\u001b[0;34m,\u001b[0m\u001b[0mgOIIIground2320\u001b[0m\u001b[0;34m,\u001b[0m\u001b[0mnOIII\u001b[0m\u001b[0;34m)\u001b[0m\u001b[0;34m\u001b[0m\u001b[0;34m\u001b[0m\u001b[0m\n\u001b[1;32m     21\u001b[0m     \u001b[0mOIII_2321_calcEMIS\u001b[0m\u001b[0;34m[\u001b[0m\u001b[0;34mf\"T{Temperature[i]}\"\u001b[0m\u001b[0;34m]\u001b[0m\u001b[0;34m.\u001b[0m\u001b[0mappend\u001b[0m\u001b[0;34m(\u001b[0m\u001b[0mcalc\u001b[0m\u001b[0;34m)\u001b[0m\u001b[0;34m\u001b[0m\u001b[0;34m\u001b[0m\u001b[0m\n",
      "\u001b[0;31mNameError\u001b[0m: name 'OIIIfracs' is not defined"
     ]
    }
   ],
   "source": [
    "CIIIfracs=C3_Table.loc['CIII Probability'].values\n",
    "CIVfracs=C4_Table.loc['CIV Probability'].values\n",
    "\n",
    "edens=C3_Table.loc['e Density Log /cm^3'].values\n",
    "Temperature=np.arange(4,6.5,step=.5)\n",
    "#####\n",
    "CIII_977_calcEMIS={'T4.0':[],\n",
    "                    'T4.5':[],\n",
    "                    'T5.0':[],\n",
    "                    'T5.5':[],\n",
    "                    'T6.0':[]}\n",
    "CIII_977=[]\n",
    "for i in range(0,len(CIIIfracs)):\n",
    "    gOIIIground = 3    \n",
    "    YcalOIII=.0229 #different for differnt lines \n",
    "    EOIII2P3P = energyoftrans(977)\n",
    "    hDen=3.162300e-03\n",
    "    \n",
    "    nCIII=n_ion('O',hDen,CIIIfracs[i])\n",
    "    calc=Emist(edens[i],Temperature[i],YcalOIII,EOIII2P3P,gOIIIground,nCIII)\n",
    "    OIII_2321_calcEMIS[f\"T{Temperature[i]}\"].append(calc)\n",
    "    OIII_2321.append(calc)"
   ]
  },
  {
   "cell_type": "code",
   "execution_count": null,
   "metadata": {},
   "outputs": [],
   "source": []
  },
  {
   "cell_type": "code",
   "execution_count": 22,
   "metadata": {},
   "outputs": [],
   "source": [
    "from functions import energyoftrans,emist\n",
    "make='model4'\n",
    "GasPhase={'H' : 0.0000,  'He': -1.0000,  \n",
    "          'C' : -4.6108, 'N' : -5.0701,  \n",
    "          'O' :-4.3098, 'Na': -6.6696,  \n",
    "          'Mg': -5.4597, 'Si':-5.4597} #log(number densities of elements),relative to hydrogen abundance of unity\n",
    "#constants\n",
    "kboltz= 1.38065e-16 #(*cgs*)\n",
    "light = 2.99792e+18   #(* A s^-1 *)\n",
    "eVtoErg = 1.60218e-12\n",
    "hplanckerg = 6.626068e-27  #(* erg s *)\n",
    "hplanckeV = 4.135667e-15  #(* eV s *) \n",
    "def n_ion(ele,Hden,frac):\n",
    "    # ele : element serves as key for the GasPhase dict, string, solar abundance\n",
    "    # Hden : hydrogen number density\n",
    "    # frac : average probability abundance of ion across zones (OVI Frac)\n",
    "    Nele_Sol=10**(GasPhase[ele])\n",
    "    n_ion=frac*Hden*Nele_Sol\n",
    "    return n_ion"
   ]
  },
  {
   "cell_type": "code",
   "execution_count": 24,
   "metadata": {},
   "outputs": [],
   "source": [
    "C3_Table.to_csv('./DataTables/CIIITemp(3-7).csv',index=True)\n",
    "C4_Table.to_csv('./DataTables/CIVTemp(3-7).csv',index=True)"
   ]
  },
  {
   "cell_type": "code",
   "execution_count": 68,
   "metadata": {},
   "outputs": [],
   "source": [
    "N3scal_temps=[0.000e+00 ,  6.613e-02 ,  1.494e-01,   2.576e-01,   4.039e-01,   6.130e-01,   7.418e-01,   8.305e-01,   8.981e-01,   9.264e-01,   9.438e-01,   9.579e-01,   9.649e-01,   9.699e-01,   1.000e+00]\n",
    "\n",
    "N5scal_temps=[0.000e+00  , 1.429e-01  , 2.857e-01  , 4.286e-01,   5.714e-01,   7.143e-01  , 8.571e-01   ,1.000e+00]"
   ]
  },
  {
   "cell_type": "code",
   "execution_count": 69,
   "metadata": {},
   "outputs": [],
   "source": [
    "def unscal_temp(temp):\n",
    "    Tmax=7.20e7\n",
    "    Tmin=7.20e+03\n",
    "    #B=(1/4)*np.log(7.20e3)\n",
    "    T=10**((np.log10(Tmax/Tmin))*temp + np.log10(Tmin))\n",
    "    #T=np.exp(4*(temp+B))\n",
    "    return T\n",
    "N3unscaleT=[]\n",
    "for i in N3scal_temps:\n",
    "    N3unscaleT.append(unscal_temp(i))\n",
    "N5unscaleT=[]\n",
    "for i in N5scal_temps:\n",
    "    N5unscaleT.append(unscal_temp(i))"
   ]
  },
  {
   "cell_type": "code",
   "execution_count": 70,
   "metadata": {},
   "outputs": [
    {
     "name": "stdout",
     "output_type": "stream",
     "text": [
      "7200.000000000001, 26849.270877274972, 100030.51308504638, 373020.3252518349, 1389736.603896895, 5182418.684179438, 19307786.880677275, 72000000.00000009, "
     ]
    }
   ],
   "source": [
    "for x in N5unscaleT:\n",
    "    print(x, end=', ')"
   ]
  },
  {
   "cell_type": "code",
   "execution_count": 39,
   "metadata": {},
   "outputs": [
    {
     "name": "stdout",
     "output_type": "stream",
     "text": [
      "wrote file locally to /Users/danielpiacitelli/atomdb/APED/c/c_3/c_3_EC_v3_0_3_a.fits\n",
      "wrote file locally to /Users/danielpiacitelli/atomdb/APED/c/c_3/c_3_LV_v3_0_4_a.fits\n"
     ]
    },
    {
     "ename": "ValueError",
     "evalue": "The truth value of an array with more than one element is ambiguous. Use a.any() or a.all()",
     "output_type": "error",
     "traceback": [
      "\u001b[0;31m------------------------------------------------------------\u001b[0m",
      "\u001b[0;31mValueError\u001b[0m                 Traceback (most recent call last)",
      "\u001b[0;32m<ipython-input-39-c36923c3d2ba>\u001b[0m in \u001b[0;36m<module>\u001b[0;34m\u001b[0m\n\u001b[1;32m     25\u001b[0m \u001b[0;34m\u001b[0m\u001b[0m\n\u001b[1;32m     26\u001b[0m \u001b[0;31m# get data by specifying ion, upper and lower levels\u001b[0m\u001b[0;34m\u001b[0m\u001b[0;34m\u001b[0m\u001b[0;34m\u001b[0m\u001b[0m\n\u001b[0;32m---> 27\u001b[0;31m \u001b[0mexc\u001b[0m\u001b[0;34m,\u001b[0m \u001b[0mdexc\u001b[0m \u001b[0;34m=\u001b[0m \u001b[0matomdb\u001b[0m\u001b[0;34m.\u001b[0m\u001b[0mget_maxwell_rate\u001b[0m\u001b[0;34m(\u001b[0m\u001b[0mTe\u001b[0m\u001b[0;34m,\u001b[0m \u001b[0mZ\u001b[0m\u001b[0;34m=\u001b[0m\u001b[0mZ\u001b[0m\u001b[0;34m,\u001b[0m \u001b[0mz1\u001b[0m\u001b[0;34m=\u001b[0m\u001b[0mz1\u001b[0m\u001b[0;34m,\u001b[0m \u001b[0minitlev\u001b[0m \u001b[0;34m=\u001b[0m \u001b[0mlo\u001b[0m\u001b[0;34m,\u001b[0m \u001b[0mfinallev\u001b[0m\u001b[0;34m=\u001b[0m\u001b[0mup\u001b[0m\u001b[0;34m,\u001b[0m \u001b[0mdtype\u001b[0m\u001b[0;34m=\u001b[0m\u001b[0;34m'EC'\u001b[0m\u001b[0;34m,\u001b[0m \u001b[0mdatacache\u001b[0m\u001b[0;34m=\u001b[0m\u001b[0mdatacache\u001b[0m\u001b[0;34m)\u001b[0m\u001b[0;34m\u001b[0m\u001b[0;34m\u001b[0m\u001b[0m\n\u001b[0m\u001b[1;32m     28\u001b[0m \u001b[0;34m\u001b[0m\u001b[0m\n\u001b[1;32m     29\u001b[0m \u001b[0mfig\u001b[0m\u001b[0;34m=\u001b[0m \u001b[0mpylab\u001b[0m\u001b[0;34m.\u001b[0m\u001b[0mfigure\u001b[0m\u001b[0;34m(\u001b[0m\u001b[0;34m)\u001b[0m\u001b[0;34m\u001b[0m\u001b[0;34m\u001b[0m\u001b[0m\n",
      "\u001b[0;32m~/miniconda3/lib/python3.7/site-packages/pyatomdb/atomdb.py\u001b[0m in \u001b[0;36mget_maxwell_rate\u001b[0;34m(Te, colldata, index, lvdata, Te_unit, lvdatap1, ionpot, force_extrap, silent, finallev, initlev, Z, z1, dtype, exconly, datacache, settings, ladat)\u001b[0m\n\u001b[1;32m   3267\u001b[0m                                  \u001b[0mdelta_E\u001b[0m\u001b[0;34m/\u001b[0m\u001b[0;36m1e3\u001b[0m\u001b[0;34m,\u001b[0m \u001b[0mTe_arr\u001b[0m\u001b[0;34m,\u001b[0m \u001b[0mZtmp\u001b[0m\u001b[0;34m,\u001b[0m \u001b[0mdegl\u001b[0m\u001b[0;34m,\u001b[0m \u001b[0mdegu\u001b[0m\u001b[0;34m,\u001b[0m\u001b[0;31m \u001b[0m\u001b[0;31m\\\u001b[0m\u001b[0;34m\u001b[0m\u001b[0;34m\u001b[0m\u001b[0m\n\u001b[1;32m   3268\u001b[0m                                  \u001b[0mforce_extrap\u001b[0m\u001b[0;34m=\u001b[0m\u001b[0mforce_extrap\u001b[0m\u001b[0;34m,\u001b[0m \u001b[0mladat\u001b[0m\u001b[0;34m=\u001b[0m\u001b[0mladat\u001b[0m\u001b[0;34m,\u001b[0m\u001b[0;31m \u001b[0m\u001b[0;31m\\\u001b[0m\u001b[0;34m\u001b[0m\u001b[0;34m\u001b[0m\u001b[0m\n\u001b[0;32m-> 3269\u001b[0;31m                                  levdat=lvdata)\n\u001b[0m\u001b[1;32m   3270\u001b[0m \u001b[0;34m\u001b[0m\u001b[0m\n\u001b[1;32m   3271\u001b[0m \u001b[0;34m\u001b[0m\u001b[0m\n",
      "\u001b[0;32m~/miniconda3/lib/python3.7/site-packages/pyatomdb/atomdb.py\u001b[0m in \u001b[0;36m_calc_maxwell_rates\u001b[0;34m(coll_type, min_T, max_T, Tarr, om, dE, T, Z, degl, degu, quiet, levdat, ladat, lolev, uplev, force_extrap, did_extrap, datacache, return_upsilon)\u001b[0m\n\u001b[1;32m   1547\u001b[0m \u001b[0;31m#       bounds_error=False, fill_value=0.0)(st)\u001b[0m\u001b[0;34m\u001b[0m\u001b[0;34m\u001b[0m\u001b[0;34m\u001b[0m\u001b[0m\n\u001b[1;32m   1548\u001b[0m       \u001b[0my2\u001b[0m \u001b[0;34m=\u001b[0m \u001b[0m_prep_spline_atomdb\u001b[0m\u001b[0;34m(\u001b[0m\u001b[0mxs\u001b[0m\u001b[0;34m,\u001b[0m \u001b[0mom\u001b[0m\u001b[0;34m[\u001b[0m\u001b[0;36m2\u001b[0m\u001b[0;34m:\u001b[0m\u001b[0;36m2\u001b[0m\u001b[0;34m+\u001b[0m\u001b[0mint\u001b[0m\u001b[0;34m(\u001b[0m\u001b[0mom\u001b[0m\u001b[0;34m[\u001b[0m\u001b[0;36m0\u001b[0m\u001b[0;34m]\u001b[0m\u001b[0;34m)\u001b[0m\u001b[0;34m]\u001b[0m\u001b[0;34m,\u001b[0m \u001b[0;36m5\u001b[0m\u001b[0;34m)\u001b[0m\u001b[0;34m\u001b[0m\u001b[0;34m\u001b[0m\u001b[0m\n\u001b[0;32m-> 1549\u001b[0;31m       \u001b[0mupsilon\u001b[0m \u001b[0;34m=\u001b[0m \u001b[0m_calc_spline_atomdb\u001b[0m\u001b[0;34m(\u001b[0m\u001b[0mxs\u001b[0m\u001b[0;34m,\u001b[0m \u001b[0mom\u001b[0m\u001b[0;34m[\u001b[0m\u001b[0;36m2\u001b[0m\u001b[0;34m:\u001b[0m\u001b[0;36m2\u001b[0m\u001b[0;34m+\u001b[0m\u001b[0mint\u001b[0m\u001b[0;34m(\u001b[0m\u001b[0mom\u001b[0m\u001b[0;34m[\u001b[0m\u001b[0;36m0\u001b[0m\u001b[0;34m]\u001b[0m\u001b[0;34m)\u001b[0m\u001b[0;34m]\u001b[0m\u001b[0;34m,\u001b[0m \u001b[0my2\u001b[0m\u001b[0;34m,\u001b[0m \u001b[0;36m5\u001b[0m\u001b[0;34m,\u001b[0m \u001b[0mst\u001b[0m\u001b[0;34m)\u001b[0m\u001b[0;34m\u001b[0m\u001b[0;34m\u001b[0m\u001b[0m\n\u001b[0m\u001b[1;32m   1550\u001b[0m     \u001b[0;32melif\u001b[0m \u001b[0mint\u001b[0m\u001b[0;34m(\u001b[0m\u001b[0mom\u001b[0m\u001b[0;34m[\u001b[0m\u001b[0;36m0\u001b[0m\u001b[0;34m]\u001b[0m\u001b[0;34m)\u001b[0m\u001b[0;34m==\u001b[0m \u001b[0;36m9\u001b[0m\u001b[0;34m:\u001b[0m\u001b[0;34m\u001b[0m\u001b[0;34m\u001b[0m\u001b[0m\n\u001b[1;32m   1551\u001b[0m       upsilon = interpolate.interp1d(xs9, om[2:2+int(om[0])], kind='cubic',\\\n",
      "\u001b[0;32m~/miniconda3/lib/python3.7/site-packages/pyatomdb/atomdb.py\u001b[0m in \u001b[0;36m_calc_spline_atomdb\u001b[0;34m(xa, ya, y2a, n, x)\u001b[0m\n\u001b[1;32m   5225\u001b[0m   \u001b[0;32mwhile\u001b[0m \u001b[0;34m(\u001b[0m\u001b[0mkhi\u001b[0m\u001b[0;34m-\u001b[0m\u001b[0mklo\u001b[0m \u001b[0;34m>\u001b[0m \u001b[0;36m1\u001b[0m\u001b[0;34m)\u001b[0m\u001b[0;34m:\u001b[0m\u001b[0;34m\u001b[0m\u001b[0;34m\u001b[0m\u001b[0m\n\u001b[1;32m   5226\u001b[0m     \u001b[0mk\u001b[0m\u001b[0;34m=\u001b[0m\u001b[0;34m(\u001b[0m\u001b[0mkhi\u001b[0m\u001b[0;34m+\u001b[0m\u001b[0mklo\u001b[0m\u001b[0;34m)\u001b[0m \u001b[0;34m>>\u001b[0m \u001b[0;36m1\u001b[0m\u001b[0;34m\u001b[0m\u001b[0;34m\u001b[0m\u001b[0m\n\u001b[0;32m-> 5227\u001b[0;31m     \u001b[0;32mif\u001b[0m \u001b[0;34m(\u001b[0m\u001b[0mxa\u001b[0m\u001b[0;34m[\u001b[0m\u001b[0mk\u001b[0m\u001b[0;34m]\u001b[0m \u001b[0;34m>\u001b[0m \u001b[0mx\u001b[0m\u001b[0;34m)\u001b[0m\u001b[0;34m:\u001b[0m\u001b[0;34m\u001b[0m\u001b[0;34m\u001b[0m\u001b[0m\n\u001b[0m\u001b[1;32m   5228\u001b[0m       \u001b[0mkhi\u001b[0m\u001b[0;34m=\u001b[0m\u001b[0mk\u001b[0m\u001b[0;34m\u001b[0m\u001b[0;34m\u001b[0m\u001b[0m\n\u001b[1;32m   5229\u001b[0m     \u001b[0;32melse\u001b[0m\u001b[0;34m:\u001b[0m\u001b[0;34m\u001b[0m\u001b[0;34m\u001b[0m\u001b[0m\n",
      "\u001b[0;31mValueError\u001b[0m: The truth value of an array with more than one element is ambiguous. Use a.any() or a.all()"
     ]
    }
   ],
   "source": [
    "import pyatomdb, numpy, pylab\n",
    "from pyatomdb import atomdb\n",
    "# We will get some maxwellian rates for a CIII \n",
    "\n",
    "Z = 6\n",
    "z1 = 3\n",
    "up = 5\n",
    "lo = 1\n",
    "\n",
    "# excitation\n",
    "\n",
    "Te = numpy.logspace(4, 7, 15)\n",
    "\n",
    "#  >>> # (1) Get excitation rates for row 12 of an Fe XVII file\n",
    "#  >>> colldata = pyatomdb.atomdb.get_data(26,17,'EC')\n",
    "#  >>> exc, dex = get_maxwell_rate(Te, colldata=colldata, index=12)\n",
    "\n",
    "#  >>> # (2) Get excitation rates for row 12 of an Fe XVII file\n",
    "#  >>> exc, dex = get_maxwell_rate(Te, Z=26,z1=17, index=12)\n",
    "\n",
    "#  >>>  (3) Get excitation rates for transitions from level 1 to 15 of FE XVII\n",
    "#  >>> exc, dex = get_maxwell_rate(Te, Z=26, z1=17, dtype='EC', finallev=15, initlev=1)\n",
    "\n",
    "datacache = {}\n",
    "\n",
    "# get data by specifying ion, upper and lower levels\n",
    "exc, dexc = atomdb.get_maxwell_rate(Te, Z=Z, z1=z1, initlev = lo, finallev=up, dtype='EC', datacache=datacache)\n",
    "\n",
    "fig= pylab.figure()\n",
    "fig.show()\n",
    "ax = fig.add_subplot(111)\n",
    "ax.loglog(Te, exc, label='excitation')\n",
    "ax.loglog(Te, dexc, label = 'deexcitation')\n",
    "\n",
    "\n",
    "# preload data and find a specific transition\n",
    "ecdat = atomdb.get_data(8,7,'EC', datacache=datacache)\n",
    "\n",
    "i = numpy.where( (ecdat[1].data['Upper_Lev']==up) &\\\n",
    "                 (ecdat[1].data['Lower_Lev']==lo))[0][0]\n",
    "\n",
    "exc, dex = atomdb.get_maxwell_rate(Te,colldata=ecdat, index=i, datacache=datacache)\n",
    "\n",
    "ax.loglog(Te, exc, 'o', label='excitation')\n",
    "ax.loglog(Te, dexc, 'o', label = 'deexcitation')\n",
    "\n",
    "ax.legend(loc=0)\n",
    "ax.set_xlabel(\"Temperature (K)\")\n",
    "ax.set_ylabel(\"Rate Coefficient (cm$^3$ s$^{-1}$)\")\n",
    "\n",
    "pylab.draw()\n",
    "zzz=input(\"Press enter to continue\")\n",
    "# save image files\n",
    "fig.savefig('atomdb_examples_2_1.pdf')\n",
    "fig.savefig('atomdb_examples_2_1.svg')\n",
    "\n",
    "# you can also obtain ionization or recombination rates (see get_maxwell_rates writeup for options)\n",
    "# in most cases you need to specify initlev and finallev as 1 to get the ion to ion rates.\n",
    "\n",
    "ion= atomdb.get_maxwell_rate(Te,Z=Z, z1=z1, initlev=1, finallev=1, dtype='CI', datacache=datacache)\n",
    "print(ion)\n",
    "#\n",
    "# However it is recommended that you use get_ionrec_rate instead - it gives you everythign in one go\n",
    "\n",
    "# combining the different types\n",
    "ion, rec = atomdb.get_ionrec_rate(Te, Z=Z, z1=z1, datacache=datacache)\n",
    "\n",
    "# as separate entities\n",
    "CI, EA, RR, DR=atomdb.get_ionrec_rate(Te, Z=Z, z1=z1, datacache=datacache, separate=True)\n",
    "\n",
    "print(\"Collisional ionization: \",CI)\n",
    "print(\"Excitation Autoionization: \",EA)\n",
    "print(\"Radiative Recombination: \",RR)\n",
    "print(\"Dielectroni Recombination: \",DR)\n",
    "ax.cla()\n",
    "\n",
    "ax.loglog(Te, ion, label='Ionization')\n",
    "ax.loglog(Te, rec, label='Recombination')\n",
    "\n",
    "ax.loglog(Te, CI, '--',label='CI')\n",
    "ax.loglog(Te, EA, '--',label='EA')\n",
    "ax.loglog(Te, RR, '--',label='RR')\n",
    "ax.loglog(Te, DR, '--',label='DR')\n",
    "\n",
    "ax.legend(loc=0)\n",
    "ax.set_xlabel(\"Temperature (K)\")\n",
    "ax.set_ylabel(\"Rate Coefficient (cm$^3$ s$^{-1}$)\")\n",
    "\n",
    "pylab.draw()\n",
    "zzz=input(\"Press enter to continue\")\n",
    "# save image files\n",
    "fig.savefig('atomdb_examples_2_2.pdf')\n",
    "fig.savefig('atomdb_examples_2_2.svg')\n",
    "\n",
    "\n",
    "#get_maxwell_rate(Te, colldata=False, index=-1, lvdata=False, Te_unit='K', \\\n",
    "#                     lvdatap1=False, ionpot = False, \\\n",
    "#                     force_extrap=False, silent=True,\\\n",
    "#                     finallev=False, initlev=False,\\\n",
    "#                     Z=-1, z1=-1, dtype=False, exconly=False,\\\n",
    "#                     datacache=False, settings=False, ladat=False):\n"
   ]
  },
  {
   "cell_type": "code",
   "execution_count": null,
   "metadata": {},
   "outputs": [],
   "source": []
  },
  {
   "cell_type": "code",
   "execution_count": null,
   "metadata": {},
   "outputs": [],
   "source": [
    "import pyatomdb\n",
    "from pyatomdb import atomdb"
   ]
  },
  {
   "cell_type": "code",
   "execution_count": 40,
   "metadata": {},
   "outputs": [
    {
     "name": "stdout",
     "output_type": "stream",
     "text": [
      "wrote file locally to /Users/danielpiacitelli/atomdb/APED/misc/Abundances_v3.0.8a.fits\n",
      "Will not thermally broaden lines\n"
     ]
    },
    {
     "ename": "FileNotFoundError",
     "evalue": "[Errno 2] No such file or directory: 'aciss_meg1_cy22.garf'",
     "output_type": "error",
     "traceback": [
      "\u001b[0;31m------------------------------------------------------------\u001b[0m",
      "\u001b[0;31mFileNotFoundError\u001b[0m          Traceback (most recent call last)",
      "\u001b[0;32m<ipython-input-40-95f84f80540a>\u001b[0m in \u001b[0;36m<module>\u001b[0;34m\u001b[0m\n\u001b[1;32m      3\u001b[0m \u001b[0;34m\u001b[0m\u001b[0m\n\u001b[1;32m      4\u001b[0m \u001b[0;31m# set response\u001b[0m\u001b[0;34m\u001b[0m\u001b[0;34m\u001b[0m\u001b[0;34m\u001b[0m\u001b[0m\n\u001b[0;32m----> 5\u001b[0;31m \u001b[0msess\u001b[0m\u001b[0;34m.\u001b[0m\u001b[0mset_response\u001b[0m\u001b[0;34m(\u001b[0m\u001b[0;34m'aciss_meg1_cy22.grmf'\u001b[0m\u001b[0;34m,\u001b[0m \u001b[0marf\u001b[0m \u001b[0;34m=\u001b[0m \u001b[0;34m'aciss_meg1_cy22.garf'\u001b[0m\u001b[0;34m)\u001b[0m\u001b[0;34m\u001b[0m\u001b[0;34m\u001b[0m\u001b[0m\n\u001b[0m\u001b[1;32m      6\u001b[0m \u001b[0;34m\u001b[0m\u001b[0m\n\u001b[1;32m      7\u001b[0m \u001b[0;31m# get the emissivity of the resonance line of O VII at 5 different temperatures\u001b[0m\u001b[0;34m\u001b[0m\u001b[0;34m\u001b[0m\u001b[0;34m\u001b[0m\u001b[0m\n",
      "\u001b[0;32m~/miniconda3/lib/python3.7/site-packages/pyatomdb/spectrum.py\u001b[0m in \u001b[0;36mset_response\u001b[0;34m(self, rmf, arf, raw)\u001b[0m\n\u001b[1;32m   2076\u001b[0m         \u001b[0;32mif\u001b[0m \u001b[0mtype\u001b[0m\u001b[0;34m(\u001b[0m\u001b[0marf\u001b[0m\u001b[0;34m)\u001b[0m\u001b[0;34m==\u001b[0m\u001b[0mstr\u001b[0m\u001b[0;34m:\u001b[0m\u001b[0;34m\u001b[0m\u001b[0;34m\u001b[0m\u001b[0m\n\u001b[1;32m   2077\u001b[0m           \u001b[0mself\u001b[0m\u001b[0;34m.\u001b[0m\u001b[0marffile\u001b[0m \u001b[0;34m=\u001b[0m \u001b[0marf\u001b[0m\u001b[0;34m\u001b[0m\u001b[0;34m\u001b[0m\u001b[0m\n\u001b[0;32m-> 2078\u001b[0;31m           \u001b[0mself\u001b[0m\u001b[0;34m.\u001b[0m\u001b[0marfdat\u001b[0m \u001b[0;34m=\u001b[0m \u001b[0mpyfits\u001b[0m\u001b[0;34m.\u001b[0m\u001b[0mopen\u001b[0m\u001b[0;34m(\u001b[0m\u001b[0marf\u001b[0m\u001b[0;34m)\u001b[0m\u001b[0;34m\u001b[0m\u001b[0;34m\u001b[0m\u001b[0m\n\u001b[0m\u001b[1;32m   2079\u001b[0m         \u001b[0;32melif\u001b[0m \u001b[0mtype\u001b[0m\u001b[0;34m(\u001b[0m\u001b[0marf\u001b[0m\u001b[0;34m)\u001b[0m \u001b[0;34m==\u001b[0m \u001b[0mpyfits\u001b[0m\u001b[0;34m.\u001b[0m\u001b[0mhdu\u001b[0m\u001b[0;34m.\u001b[0m\u001b[0mhdulist\u001b[0m\u001b[0;34m.\u001b[0m\u001b[0mHDUList\u001b[0m\u001b[0;34m:\u001b[0m\u001b[0;34m\u001b[0m\u001b[0;34m\u001b[0m\u001b[0m\n\u001b[1;32m   2080\u001b[0m           \u001b[0mself\u001b[0m\u001b[0;34m.\u001b[0m\u001b[0marfdat\u001b[0m \u001b[0;34m=\u001b[0m \u001b[0marf\u001b[0m\u001b[0;34m\u001b[0m\u001b[0;34m\u001b[0m\u001b[0m\n",
      "\u001b[0;32m~/miniconda3/lib/python3.7/site-packages/astropy/io/fits/hdu/hdulist.py\u001b[0m in \u001b[0;36mfitsopen\u001b[0;34m(name, mode, memmap, save_backup, cache, lazy_load_hdus, **kwargs)\u001b[0m\n\u001b[1;32m    156\u001b[0m \u001b[0;34m\u001b[0m\u001b[0m\n\u001b[1;32m    157\u001b[0m     return HDUList.fromfile(name, mode, memmap, save_backup, cache,\n\u001b[0;32m--> 158\u001b[0;31m                             lazy_load_hdus, **kwargs)\n\u001b[0m\u001b[1;32m    159\u001b[0m \u001b[0;34m\u001b[0m\u001b[0m\n\u001b[1;32m    160\u001b[0m \u001b[0;34m\u001b[0m\u001b[0m\n",
      "\u001b[0;32m~/miniconda3/lib/python3.7/site-packages/astropy/io/fits/hdu/hdulist.py\u001b[0m in \u001b[0;36mfromfile\u001b[0;34m(cls, fileobj, mode, memmap, save_backup, cache, lazy_load_hdus, **kwargs)\u001b[0m\n\u001b[1;32m    395\u001b[0m         return cls._readfrom(fileobj=fileobj, mode=mode, memmap=memmap,\n\u001b[1;32m    396\u001b[0m                              \u001b[0msave_backup\u001b[0m\u001b[0;34m=\u001b[0m\u001b[0msave_backup\u001b[0m\u001b[0;34m,\u001b[0m \u001b[0mcache\u001b[0m\u001b[0;34m=\u001b[0m\u001b[0mcache\u001b[0m\u001b[0;34m,\u001b[0m\u001b[0;34m\u001b[0m\u001b[0;34m\u001b[0m\u001b[0m\n\u001b[0;32m--> 397\u001b[0;31m                              lazy_load_hdus=lazy_load_hdus, **kwargs)\n\u001b[0m\u001b[1;32m    398\u001b[0m \u001b[0;34m\u001b[0m\u001b[0m\n\u001b[1;32m    399\u001b[0m     \u001b[0;34m@\u001b[0m\u001b[0mclassmethod\u001b[0m\u001b[0;34m\u001b[0m\u001b[0;34m\u001b[0m\u001b[0m\n",
      "\u001b[0;32m~/miniconda3/lib/python3.7/site-packages/astropy/io/fits/hdu/hdulist.py\u001b[0m in \u001b[0;36m_readfrom\u001b[0;34m(cls, fileobj, data, mode, memmap, save_backup, cache, lazy_load_hdus, **kwargs)\u001b[0m\n\u001b[1;32m   1044\u001b[0m             \u001b[0;32mif\u001b[0m \u001b[0;32mnot\u001b[0m \u001b[0misinstance\u001b[0m\u001b[0;34m(\u001b[0m\u001b[0mfileobj\u001b[0m\u001b[0;34m,\u001b[0m \u001b[0m_File\u001b[0m\u001b[0;34m)\u001b[0m\u001b[0;34m:\u001b[0m\u001b[0;34m\u001b[0m\u001b[0;34m\u001b[0m\u001b[0m\n\u001b[1;32m   1045\u001b[0m                 \u001b[0;31m# instantiate a FITS file object (ffo)\u001b[0m\u001b[0;34m\u001b[0m\u001b[0;34m\u001b[0m\u001b[0;34m\u001b[0m\u001b[0m\n\u001b[0;32m-> 1046\u001b[0;31m                 \u001b[0mfileobj\u001b[0m \u001b[0;34m=\u001b[0m \u001b[0m_File\u001b[0m\u001b[0;34m(\u001b[0m\u001b[0mfileobj\u001b[0m\u001b[0;34m,\u001b[0m \u001b[0mmode\u001b[0m\u001b[0;34m=\u001b[0m\u001b[0mmode\u001b[0m\u001b[0;34m,\u001b[0m \u001b[0mmemmap\u001b[0m\u001b[0;34m=\u001b[0m\u001b[0mmemmap\u001b[0m\u001b[0;34m,\u001b[0m \u001b[0mcache\u001b[0m\u001b[0;34m=\u001b[0m\u001b[0mcache\u001b[0m\u001b[0;34m)\u001b[0m\u001b[0;34m\u001b[0m\u001b[0;34m\u001b[0m\u001b[0m\n\u001b[0m\u001b[1;32m   1047\u001b[0m             \u001b[0;31m# The Astropy mode is determined by the _File initializer if the\u001b[0m\u001b[0;34m\u001b[0m\u001b[0;34m\u001b[0m\u001b[0;34m\u001b[0m\u001b[0m\n\u001b[1;32m   1048\u001b[0m             \u001b[0;31m# supplied mode was None\u001b[0m\u001b[0;34m\u001b[0m\u001b[0;34m\u001b[0m\u001b[0;34m\u001b[0m\u001b[0m\n",
      "\u001b[0;32m~/miniconda3/lib/python3.7/site-packages/astropy/utils/decorators.py\u001b[0m in \u001b[0;36mwrapper\u001b[0;34m(*args, **kwargs)\u001b[0m\n\u001b[1;32m    519\u001b[0m                             \u001b[0mkwargs\u001b[0m\u001b[0;34m[\u001b[0m\u001b[0mnew_name\u001b[0m\u001b[0;34m[\u001b[0m\u001b[0mi\u001b[0m\u001b[0;34m]\u001b[0m\u001b[0;34m]\u001b[0m \u001b[0;34m=\u001b[0m \u001b[0mvalue\u001b[0m\u001b[0;34m\u001b[0m\u001b[0;34m\u001b[0m\u001b[0m\n\u001b[1;32m    520\u001b[0m \u001b[0;34m\u001b[0m\u001b[0m\n\u001b[0;32m--> 521\u001b[0;31m             \u001b[0;32mreturn\u001b[0m \u001b[0mfunction\u001b[0m\u001b[0;34m(\u001b[0m\u001b[0;34m*\u001b[0m\u001b[0margs\u001b[0m\u001b[0;34m,\u001b[0m \u001b[0;34m**\u001b[0m\u001b[0mkwargs\u001b[0m\u001b[0;34m)\u001b[0m\u001b[0;34m\u001b[0m\u001b[0;34m\u001b[0m\u001b[0m\n\u001b[0m\u001b[1;32m    522\u001b[0m \u001b[0;34m\u001b[0m\u001b[0m\n\u001b[1;32m    523\u001b[0m         \u001b[0;32mreturn\u001b[0m \u001b[0mwrapper\u001b[0m\u001b[0;34m\u001b[0m\u001b[0;34m\u001b[0m\u001b[0m\n",
      "\u001b[0;32m~/miniconda3/lib/python3.7/site-packages/astropy/io/fits/file.py\u001b[0m in \u001b[0;36m__init__\u001b[0;34m(self, fileobj, mode, memmap, overwrite, cache)\u001b[0m\n\u001b[1;32m    191\u001b[0m             \u001b[0mself\u001b[0m\u001b[0;34m.\u001b[0m\u001b[0m_open_fileobj\u001b[0m\u001b[0;34m(\u001b[0m\u001b[0mfileobj\u001b[0m\u001b[0;34m,\u001b[0m \u001b[0mmode\u001b[0m\u001b[0;34m,\u001b[0m \u001b[0moverwrite\u001b[0m\u001b[0;34m)\u001b[0m\u001b[0;34m\u001b[0m\u001b[0;34m\u001b[0m\u001b[0m\n\u001b[1;32m    192\u001b[0m         \u001b[0;32melif\u001b[0m \u001b[0misinstance\u001b[0m\u001b[0;34m(\u001b[0m\u001b[0mfileobj\u001b[0m\u001b[0;34m,\u001b[0m \u001b[0mstr\u001b[0m\u001b[0;34m)\u001b[0m\u001b[0;34m:\u001b[0m\u001b[0;34m\u001b[0m\u001b[0;34m\u001b[0m\u001b[0m\n\u001b[0;32m--> 193\u001b[0;31m             \u001b[0mself\u001b[0m\u001b[0;34m.\u001b[0m\u001b[0m_open_filename\u001b[0m\u001b[0;34m(\u001b[0m\u001b[0mfileobj\u001b[0m\u001b[0;34m,\u001b[0m \u001b[0mmode\u001b[0m\u001b[0;34m,\u001b[0m \u001b[0moverwrite\u001b[0m\u001b[0;34m)\u001b[0m\u001b[0;34m\u001b[0m\u001b[0;34m\u001b[0m\u001b[0m\n\u001b[0m\u001b[1;32m    194\u001b[0m         \u001b[0;32melse\u001b[0m\u001b[0;34m:\u001b[0m\u001b[0;34m\u001b[0m\u001b[0;34m\u001b[0m\u001b[0m\n\u001b[1;32m    195\u001b[0m             \u001b[0mself\u001b[0m\u001b[0;34m.\u001b[0m\u001b[0m_open_filelike\u001b[0m\u001b[0;34m(\u001b[0m\u001b[0mfileobj\u001b[0m\u001b[0;34m,\u001b[0m \u001b[0mmode\u001b[0m\u001b[0;34m,\u001b[0m \u001b[0moverwrite\u001b[0m\u001b[0;34m)\u001b[0m\u001b[0;34m\u001b[0m\u001b[0;34m\u001b[0m\u001b[0m\n",
      "\u001b[0;32m~/miniconda3/lib/python3.7/site-packages/astropy/io/fits/file.py\u001b[0m in \u001b[0;36m_open_filename\u001b[0;34m(self, filename, mode, overwrite)\u001b[0m\n\u001b[1;32m    572\u001b[0m \u001b[0;34m\u001b[0m\u001b[0m\n\u001b[1;32m    573\u001b[0m         \u001b[0;32mif\u001b[0m \u001b[0;32mnot\u001b[0m \u001b[0mself\u001b[0m\u001b[0;34m.\u001b[0m\u001b[0m_try_read_compressed\u001b[0m\u001b[0;34m(\u001b[0m\u001b[0mself\u001b[0m\u001b[0;34m.\u001b[0m\u001b[0mname\u001b[0m\u001b[0;34m,\u001b[0m \u001b[0mmagic\u001b[0m\u001b[0;34m,\u001b[0m \u001b[0mmode\u001b[0m\u001b[0;34m,\u001b[0m \u001b[0mext\u001b[0m\u001b[0;34m=\u001b[0m\u001b[0mext\u001b[0m\u001b[0;34m)\u001b[0m\u001b[0;34m:\u001b[0m\u001b[0;34m\u001b[0m\u001b[0;34m\u001b[0m\u001b[0m\n\u001b[0;32m--> 574\u001b[0;31m             \u001b[0mself\u001b[0m\u001b[0;34m.\u001b[0m\u001b[0m_file\u001b[0m \u001b[0;34m=\u001b[0m \u001b[0mfileobj_open\u001b[0m\u001b[0;34m(\u001b[0m\u001b[0mself\u001b[0m\u001b[0;34m.\u001b[0m\u001b[0mname\u001b[0m\u001b[0;34m,\u001b[0m \u001b[0mIO_FITS_MODES\u001b[0m\u001b[0;34m[\u001b[0m\u001b[0mmode\u001b[0m\u001b[0;34m]\u001b[0m\u001b[0;34m)\u001b[0m\u001b[0;34m\u001b[0m\u001b[0;34m\u001b[0m\u001b[0m\n\u001b[0m\u001b[1;32m    575\u001b[0m             \u001b[0mself\u001b[0m\u001b[0;34m.\u001b[0m\u001b[0mclose_on_error\u001b[0m \u001b[0;34m=\u001b[0m \u001b[0;32mTrue\u001b[0m\u001b[0;34m\u001b[0m\u001b[0;34m\u001b[0m\u001b[0m\n\u001b[1;32m    576\u001b[0m \u001b[0;34m\u001b[0m\u001b[0m\n",
      "\u001b[0;32m~/miniconda3/lib/python3.7/site-packages/astropy/io/fits/util.py\u001b[0m in \u001b[0;36mfileobj_open\u001b[0;34m(filename, mode)\u001b[0m\n\u001b[1;32m    394\u001b[0m     \"\"\"\n\u001b[1;32m    395\u001b[0m \u001b[0;34m\u001b[0m\u001b[0m\n\u001b[0;32m--> 396\u001b[0;31m     \u001b[0;32mreturn\u001b[0m \u001b[0mopen\u001b[0m\u001b[0;34m(\u001b[0m\u001b[0mfilename\u001b[0m\u001b[0;34m,\u001b[0m \u001b[0mmode\u001b[0m\u001b[0;34m,\u001b[0m \u001b[0mbuffering\u001b[0m\u001b[0;34m=\u001b[0m\u001b[0;36m0\u001b[0m\u001b[0;34m)\u001b[0m\u001b[0;34m\u001b[0m\u001b[0;34m\u001b[0m\u001b[0m\n\u001b[0m\u001b[1;32m    397\u001b[0m \u001b[0;34m\u001b[0m\u001b[0m\n\u001b[1;32m    398\u001b[0m \u001b[0;34m\u001b[0m\u001b[0m\n",
      "\u001b[0;31mFileNotFoundError\u001b[0m: [Errno 2] No such file or directory: 'aciss_meg1_cy22.garf'"
     ]
    }
   ],
   "source": [
    "# declare the Collisional Ionization Equilibrium session\n",
    "sess = pyatomdb.spectrum.CIESession()\n",
    "\n",
    "# set response\n",
    "sess.set_response('aciss_meg1_cy22.grmf', arf = 'aciss_meg1_cy22.garf')\n",
    "\n",
    "# get the emissivity of the resonance line of O VII at 5 different temperatures\n",
    "\n",
    "kTlist = numpy.array([0.1,0.3,0.5,0.7,0.9])\n",
    "Z=8\n",
    "z1=7\n",
    "up=7\n",
    "lo = 1\n",
    "ldata = sess.return_line_emissivity(kTlist, Z, z1, up, lo)\n",
    "\n",
    "fig = pylab.figure()\n",
    "fig.show()\n",
    "ax= fig.add_subplot(111)\n",
    "\n",
    "ax.semilogy(ldata['Te'], ldata['epsilon'])\n",
    "\n",
    "ax.set_xlabel(\"Temperature (keV)\")\n",
    "ax.set_ylabel(\"Epsilon ph cm$^3$ s$^{-1}$\")\n",
    "\n",
    "pylab.draw()"
   ]
  },
  {
   "cell_type": "code",
   "execution_count": null,
   "metadata": {},
   "outputs": [],
   "source": []
  }
 ],
 "metadata": {
  "kernelspec": {
   "display_name": "Python 3",
   "language": "python",
   "name": "python3"
  },
  "language_info": {
   "codemirror_mode": {
    "name": "ipython",
    "version": 3
   },
   "file_extension": ".py",
   "mimetype": "text/x-python",
   "name": "python",
   "nbconvert_exporter": "python",
   "pygments_lexer": "ipython3",
   "version": "3.7.5"
  }
 },
 "nbformat": 4,
 "nbformat_minor": 4
}
