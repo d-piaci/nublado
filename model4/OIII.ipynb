{
 "cells": [
  {
   "cell_type": "code",
   "execution_count": 2,
   "metadata": {},
   "outputs": [],
   "source": [
    "import pandas as pd\n",
    "import numpy as np\n",
    "from functions import energyoftrans,emist\n",
    "make='model4'\n",
    "GasPhase={'H' : 0.0000,  'He': -1.0000,  \n",
    "          'C' : -4.6108, 'N' : -5.0701,  \n",
    "          'O' :-4.3098, 'Na': -6.6696,  \n",
    "          'Mg': -5.4597, 'Si':-5.4597} #log(number densities of elements),relative to hydrogen abundance of unity\n",
    "#constants\n",
    "kboltz= 1.38065e-16 #(*cgs*)\n",
    "light = 2.99792e+18   #(* A s^-1 *)\n",
    "eVtoErg = 1.60218e-12\n",
    "hplanckerg = 6.626068e-27  #(* erg s *)\n",
    "hplanckeV = 4.135667e-15  #(* eV s *) \n",
    "def n_ion(ele,Hden,frac):\n",
    "    # ele : element serves as key for the GasPhase dict, string, solar abundance\n",
    "    # Hden : hydrogen number density\n",
    "    # frac : average probability abundance of ion across zones (OVI Frac)\n",
    "    Nele_Sol=10**(GasPhase[ele])\n",
    "    n_ion=frac*Hden*Nele_Sol\n",
    "    return n_ion\n",
    "def Emist(ne, Tgas_exponent, Ycal, Eion, gground, n_ion):\n",
    "    import numpy as np\n",
    "    # ne : number density of electrons\n",
    "    # Tgas_exponent : power of temperature of gas in Kelvin\n",
    "    # Ycal : effective collision strength\n",
    "    # Eion : Energy of the photon coming from the transition (erg)\n",
    "    # gground : ground degeneracy, can be found with Chianti or Stout\n",
    "    # n_ion : Number density of the ion \n",
    "    Tgas=10**Tgas_exponent\n",
    "    kboltz= 1.38065e-16 #(*cgs*)\n",
    "    numberemis=n_ion*ne*((8.629e-6)/np.sqrt(Tgas))*(Ycal/gground)*np.exp(-Eion/(kboltz*Tgas))\n",
    "    #returns emisstivity of line\n",
    "    return numberemis * Eion"
   ]
  },
  {
   "cell_type": "code",
   "execution_count": 98,
   "metadata": {},
   "outputs": [],
   "source": [
    "#returns ovr table with Temperature, Htot, hydrogen density, e density, and OVI density\n",
    "\n",
    "vari='.ovr'\n",
    "table=pd.read_csv('{0}{1}'.format(make, vari),delimiter='\t')\n",
    "ovr=table.loc[:,['#depth','Te','Htot','hden','eden','O3']]\n",
    "Temp=np.log10(ovr.loc[0,\"Te\"])\n",
    "#ovr"
   ]
  },
  {
   "cell_type": "code",
   "execution_count": null,
   "metadata": {},
   "outputs": [],
   "source": [
    "#returns emis table with Emissivity of H 1 4861.33A, H 1 6562.81A, O 6 1031.00A, O 6 1037.62A\n",
    "\n",
    "vari='.emis'\n",
    "emis=pd.read_csv('{0}{1}'.format(make, vari),delimiter='\t')\n",
    "#emis.columns=['#depth','H1-4861.33A', 'H1-6562.81A', 'O6-1031.91A','O6-1037.62A']\n",
    "emis.columns=['#depth','H1-4861.33A', 'H1-6562.81A','O3 2320.95A', 'O3 4958.91A', 'O3 5006.84A']\n",
    "\n",
    "#isolates the 1031 and 1037 lines as independent tables\n",
    "line4958= emis.loc[:,'O3 4958.91A'] \n",
    "line5006= emis.loc[:,'O3 5006.84A']\n",
    "line2320= emis.loc[:,'O3 2320.95A']\n",
    "\n",
    "\n",
    "#line4958\n",
    "#line5006\n",
    "emis"
   ]
  },
  {
   "cell_type": "code",
   "execution_count": 100,
   "metadata": {},
   "outputs": [],
   "source": [
    "#returns eleH table with H\tH+\tH2 probabilites for each zone\n",
    "\n",
    "vari='.ele_H'\n",
    "eleH=pd.read_csv('{0}{1}'.format(make, vari),delimiter='\t')\n",
    "#print(eleH)\n",
    "#returns eleO table with O\tO+\tO+2\tO+3\tO+4\tO+5\tO+6\tO+7\tO+8\tO[1]\tO[2]\tO[3] probabilites for each zone\n",
    "vari='.ele_O'\n",
    "eleO=pd.read_csv('{0}{1}'.format(make,vari),delimiter='\t')\n",
    "#eleO\n",
    "\n",
    "#returns table OVI_prob with OVI probabilites for each zone\n",
    "OIII_prob = eleO.loc[:,['#depth', 'O+2']]\n",
    "#OIII_prob"
   ]
  },
  {
   "cell_type": "code",
   "execution_count": 41,
   "metadata": {},
   "outputs": [],
   "source": [
    "O3frac=np.average(OIII_prob.loc[:,'O+2'].values)\n",
    "eden=np.average(ovr.loc[:,'eden'].values)\n",
    "emis4958=np.average(line4958.values)\n",
    "emis5006=np.average(line5006.values)\n",
    "emis2320=np.average(line2320.values)\n",
    "hden=np.average(ovr.loc[:,'hden'].values)"
   ]
  },
  {
   "cell_type": "code",
   "execution_count": 42,
   "metadata": {},
   "outputs": [
    {
     "name": "stdout",
     "output_type": "stream",
     "text": [
      "nOIII is 7.791070322412448e-16\n"
     ]
    },
    {
     "data": {
      "text/plain": [
       "1.5900000000000002e-10"
      ]
     },
     "execution_count": 42,
     "metadata": {},
     "output_type": "execute_result"
    }
   ],
   "source": [
    "#number of OIII\n",
    "Noxy_Sol=10**(GasPhase['O'])\n",
    "Zsol=10**-1 #metallicity\n",
    "nOIII=O3frac*Zsol*Noxy_Sol\n",
    "print('nOIII is',nOIII)\n",
    "length=ovr.loc[:,\"#depth\"].max() -  ovr.loc[:,\"#depth\"].min()\n",
    "#N_OIII=nOIII*length\n",
    "#print('Column density of OVI is',N_OIII)\n",
    "O3frac\n",
    "#pd.read_csv('model4.out',skiprows=51,skipfooter=976,delimiter='  ')"
   ]
  },
  {
   "cell_type": "code",
   "execution_count": 43,
   "metadata": {},
   "outputs": [],
   "source": [
    "SimnDat=[hden, \n",
    "         eden,\n",
    "         O3frac,\n",
    "         emis2320,\n",
    "         emis4958,\n",
    "         emis5006]\n",
    "SimuDatKeyset=['H Density Log /cm^3',\n",
    "               'e Density Log /cm^3',\n",
    "               'OIII Probability',\n",
    "               'OIII 2321 Emis',\n",
    "               'OIII 4958 Emis', \n",
    "               'OIII 5006 Emis']\n",
    "matrix={SimuDatKeyset[0]:[SimnDat[0]],\n",
    "        SimuDatKeyset[1]:[SimnDat[1]],\n",
    "        SimuDatKeyset[2]:[SimnDat[2]],\n",
    "        SimuDatKeyset[3]:[SimnDat[3]],\n",
    "        SimuDatKeyset[4]:[SimnDat[4]],\n",
    "        SimuDatKeyset[5]:[SimnDat[5]]}"
   ]
  },
  {
   "cell_type": "code",
   "execution_count": 44,
   "metadata": {},
   "outputs": [],
   "source": [
    "location=location+1\n",
    "meta.insert(location,f\"Temp:1e{Temp:1.1f} K , hden: {np.log10(hden):1.1f}\",SimnDat)"
   ]
  },
  {
   "cell_type": "code",
   "execution_count": 55,
   "metadata": {},
   "outputs": [
    {
     "data": {
      "text/html": [
       "<div>\n",
       "<style scoped>\n",
       "    .dataframe tbody tr th:only-of-type {\n",
       "        vertical-align: middle;\n",
       "    }\n",
       "\n",
       "    .dataframe tbody tr th {\n",
       "        vertical-align: top;\n",
       "    }\n",
       "\n",
       "    .dataframe thead th {\n",
       "        text-align: right;\n",
       "    }\n",
       "</style>\n",
       "<table border=\"1\" class=\"dataframe\">\n",
       "  <thead>\n",
       "    <tr style=\"text-align: right;\">\n",
       "      <th></th>\n",
       "      <th>Temp:1e4.0 K , hden: -2.5</th>\n",
       "      <th>Temp:1e4.5 K , hden: -2.5</th>\n",
       "      <th>Temp:1e5.0 K , hden: -2.5</th>\n",
       "      <th>Temp:1e5.5 K , hden: -2.5</th>\n",
       "      <th>Temp:1e6.0 K , hden: -2.5</th>\n",
       "    </tr>\n",
       "  </thead>\n",
       "  <tbody>\n",
       "    <tr>\n",
       "      <th>H Density Log /cm^3</th>\n",
       "      <td>3.162300e-03</td>\n",
       "      <td>3.162300e-03</td>\n",
       "      <td>3.162300e-03</td>\n",
       "      <td>3.162300e-03</td>\n",
       "      <td>3.162300e-03</td>\n",
       "    </tr>\n",
       "    <tr>\n",
       "      <th>e Density Log /cm^3</th>\n",
       "      <td>3.211145e-03</td>\n",
       "      <td>3.470518e-03</td>\n",
       "      <td>3.779224e-03</td>\n",
       "      <td>3.796200e-03</td>\n",
       "      <td>3.796791e-03</td>\n",
       "    </tr>\n",
       "    <tr>\n",
       "      <th>OIII Probability</th>\n",
       "      <td>4.389091e-02</td>\n",
       "      <td>2.790303e-01</td>\n",
       "      <td>4.590000e-01</td>\n",
       "      <td>4.190000e-04</td>\n",
       "      <td>1.590000e-10</td>\n",
       "    </tr>\n",
       "    <tr>\n",
       "      <th>OIII 2321 Emis</th>\n",
       "      <td>1.245439e-34</td>\n",
       "      <td>3.868945e-32</td>\n",
       "      <td>1.500309e-31</td>\n",
       "      <td>1.207400e-34</td>\n",
       "      <td>3.003288e-41</td>\n",
       "    </tr>\n",
       "    <tr>\n",
       "      <th>OIII 4958 Emis</th>\n",
       "      <td>2.546097e-32</td>\n",
       "      <td>8.530082e-31</td>\n",
       "      <td>1.707718e-30</td>\n",
       "      <td>1.165600e-33</td>\n",
       "      <td>2.801112e-40</td>\n",
       "    </tr>\n",
       "    <tr>\n",
       "      <th>OIII 5006 Emis</th>\n",
       "      <td>7.596476e-32</td>\n",
       "      <td>2.545012e-30</td>\n",
       "      <td>5.095142e-30</td>\n",
       "      <td>3.477700e-33</td>\n",
       "      <td>8.357403e-40</td>\n",
       "    </tr>\n",
       "  </tbody>\n",
       "</table>\n",
       "</div>"
      ],
      "text/plain": [
       "                     Temp:1e4.0 K , hden: -2.5  Temp:1e4.5 K , hden: -2.5  \\\n",
       "H Density Log /cm^3               3.162300e-03               3.162300e-03   \n",
       "e Density Log /cm^3               3.211145e-03               3.470518e-03   \n",
       "OIII Probability                  4.389091e-02               2.790303e-01   \n",
       "OIII 2321 Emis                    1.245439e-34               3.868945e-32   \n",
       "OIII 4958 Emis                    2.546097e-32               8.530082e-31   \n",
       "OIII 5006 Emis                    7.596476e-32               2.545012e-30   \n",
       "\n",
       "                     Temp:1e5.0 K , hden: -2.5  Temp:1e5.5 K , hden: -2.5  \\\n",
       "H Density Log /cm^3               3.162300e-03               3.162300e-03   \n",
       "e Density Log /cm^3               3.779224e-03               3.796200e-03   \n",
       "OIII Probability                  4.590000e-01               4.190000e-04   \n",
       "OIII 2321 Emis                    1.500309e-31               1.207400e-34   \n",
       "OIII 4958 Emis                    1.707718e-30               1.165600e-33   \n",
       "OIII 5006 Emis                    5.095142e-30               3.477700e-33   \n",
       "\n",
       "                     Temp:1e6.0 K , hden: -2.5  \n",
       "H Density Log /cm^3               3.162300e-03  \n",
       "e Density Log /cm^3               3.796791e-03  \n",
       "OIII Probability                  1.590000e-10  \n",
       "OIII 2321 Emis                    3.003288e-41  \n",
       "OIII 4958 Emis                    2.801112e-40  \n",
       "OIII 5006 Emis                    8.357403e-40  "
      ]
     },
     "execution_count": 55,
     "metadata": {},
     "output_type": "execute_result"
    }
   ],
   "source": [
    "meta #3.0 [factor=-2] on"
   ]
  },
  {
   "cell_type": "code",
   "execution_count": null,
   "metadata": {},
   "outputs": [],
   "source": []
  },
  {
   "cell_type": "markdown",
   "metadata": {},
   "source": [
    "## Run once per line"
   ]
  },
  {
   "cell_type": "code",
   "execution_count": 8,
   "metadata": {},
   "outputs": [],
   "source": [
    "meta=pd.DataFrame(data=matrix,index={f\"Temp:1e{Temp:1.1f} K , hden: {np.log10(hden):1.1f}\"}).transpose()\n",
    "#meta.rename(index={'Temp'})"
   ]
  },
  {
   "cell_type": "code",
   "execution_count": 9,
   "metadata": {},
   "outputs": [],
   "source": [
    "location=0"
   ]
  },
  {
   "cell_type": "code",
   "execution_count": 15,
   "metadata": {},
   "outputs": [
    {
     "data": {
      "text/plain": [
       "array([0.33516818, 0.33516861, 0.33516594, 0.33516405, 0.33516538])"
      ]
     },
     "execution_count": 15,
     "metadata": {},
     "output_type": "execute_result"
    }
   ],
   "source": [
    "meta=pd.read_csv('./DataTables/O/OIIITemp(3-6).csv').set_index(np.array(SimuDatKeyset))\n",
    "doublet4958=meta.loc['OIII 4958 Emis'].values\n",
    "doublet5006=meta.loc['OIII 5006 Emis'].values\n",
    "doublet4958/doublet5006"
   ]
  },
  {
   "cell_type": "code",
   "execution_count": 21,
   "metadata": {},
   "outputs": [
    {
     "data": {
      "text/plain": [
       "array([1.63668019, 1.66806038, 1.67810834, 1.68129836, 1.6823084 ])"
      ]
     },
     "execution_count": 21,
     "metadata": {},
     "output_type": "execute_result"
    }
   ],
   "source": []
  },
  {
   "cell_type": "code",
   "execution_count": 85,
   "metadata": {},
   "outputs": [],
   "source": [
    "meta.to_csv('./OIII-DataTables/OIIITemp(3-7)hden(const).csv',index=False)"
   ]
  },
  {
   "cell_type": "code",
   "execution_count": 3,
   "metadata": {},
   "outputs": [],
   "source": [
    "SimuDatKeyset=['H Density Log /cm^3',\n",
    "               'e Density Log /cm^3',\n",
    "               'OIII Probability',\n",
    "               'OIII 2321 Emis',\n",
    "               'OIII 4958 Emis', \n",
    "               'OIII 5006 Emis']\n",
    "meta=pd.read_csv('./OIII-DataTables/OIIITemp(3-7)hden(const).csv').set_index(np.array(SimuDatKeyset))"
   ]
  },
  {
   "cell_type": "code",
   "execution_count": 15,
   "metadata": {},
   "outputs": [
    {
     "data": {
      "text/plain": [
       "array([1.09466943, 1.01819475, 0.99236085, 0.95673451, 0.9324502 ])"
      ]
     },
     "execution_count": 15,
     "metadata": {},
     "output_type": "execute_result"
    }
   ],
   "source": [
    "cloudy=meta.loc['OIII 4958 Emis'].values "
   ]
  },
  {
   "cell_type": "code",
   "execution_count": 53,
   "metadata": {},
   "outputs": [],
   "source": [
    "OIIIfracs=meta.loc['OIII Probability'].values\n",
    "edens=meta.loc['e Density Log /cm^3'].values\n",
    "Temperature=np.arange(4,6.5,step=.5)\n",
    "#####\n",
    "OIII_2321_calcEMIS={'T4.0':[],\n",
    "                    'T4.5':[],\n",
    "                    'T5.0':[],\n",
    "                    'T5.5':[],\n",
    "                    'T6.0':[]}\n",
    "OIII_2321=[]\n",
    "for i in range(0,len(OIIIfracs)):\n",
    "    gOIIIground2320 = 3    \n",
    "    YcalOIII=.0229 #different for differnt lines \n",
    "    EOIII2P3P = energyoftrans(2321)\n",
    "    hDen=3.162300e-03\n",
    "    \n",
    "    nOIII=n_ion('O',hDen,OIIIfracs[i])\n",
    "    calc=Emist(edens[i],Temperature[i],YcalOIII,EOIII2P3P,gOIIIground2320,nOIII)\n",
    "    OIII_2321_calcEMIS[f\"T{Temperature[i]}\"].append(calc)\n",
    "    OIII_2321.append(calc)\n",
    "#####\n",
    "OIII_4958_calcEMIS={'T4.0':[],\n",
    "                    'T4.5':[],\n",
    "                    'T5.0':[],\n",
    "                    'T5.5':[],\n",
    "                    'T6.0':[]}\n",
    "OIII_4958=[]\n",
    "for i in range(0,len(OIIIfracs)):\n",
    "    gOIIIground4958 =9/3 #we changed these, check\n",
    "    YcalOIII=2.29 #different for differnt lines \n",
    "    EOIII3P1D = energyoftrans(4958.91)\n",
    "    hDen=3.162300e-03\n",
    "    \n",
    "    nOIII=n_ion('O',hDen,OIIIfracs[i])\n",
    "    calc=Emist(edens[i],Temperature[i],YcalOIII,EOIII3P1D,gOIIIground4958,nOIII)\n",
    "    OIII_4958_calcEMIS[f\"T{Temperature[i]}\"].append(calc)  \n",
    "    OIII_4958.append(calc)\n",
    "#####\n",
    "OIII_5006_calcEMIS={'T4.0':[],\n",
    "                    'T4.5':[],\n",
    "                    'T5.0':[],\n",
    "                    'T5.5':[],\n",
    "                    'T6.0':[]}\n",
    "OIII_5006=[]\n",
    "for i in range(0,len(OIIIfracs)):\n",
    "    gOIIIground5006 = 5 #we changed these\n",
    "    YcalOIII=2.29 #different for differnt lines \n",
    "    EOIII3P1D = energyoftrans(5006.84)\n",
    "    hDen=3.162300e-03\n",
    "    \n",
    "    nOIII=n_ion('O',hDen,OIIIfracs[i])\n",
    "    calc=Emist(edens[i],Temperature[i],YcalOIII,EOIII3P1D,gOIIIground5006,nOIII)\n",
    "    OIII_5006_calcEMIS[f\"T{Temperature[i]}\"].append(calc)\n",
    "    OIII_5006.append(calc)"
   ]
  },
  {
   "cell_type": "code",
   "execution_count": 31,
   "metadata": {},
   "outputs": [
    {
     "data": {
      "text/plain": [
       "{'T4.0': [2.5012043447139296e-34],\n",
       " 'T4.5': [6.698649600221744e-32],\n",
       " 'T5.0': [2.577967905434809e-31],\n",
       " 'T5.5': [2.030990824473657e-34],\n",
       " 'T6.0': [4.956449871560243e-41]}"
      ]
     },
     "execution_count": 31,
     "metadata": {},
     "output_type": "execute_result"
    }
   ],
   "source": [
    "OIII_2321_calcEMIS"
   ]
  },
  {
   "cell_type": "code",
   "execution_count": 32,
   "metadata": {},
   "outputs": [
    {
     "data": {
      "text/plain": [
       "{'T4.0': [3.1662439259372188e-31],\n",
       " 'T4.5': [8.895040811186836e-30],\n",
       " 'T5.0': [1.6779424006212962e-29],\n",
       " 'T5.5': [1.0550767491342436e-32],\n",
       " 'T6.0': [2.397621890803888e-39]}"
      ]
     },
     "execution_count": 32,
     "metadata": {},
     "output_type": "execute_result"
    }
   ],
   "source": [
    "OIII_4958_calcEMIS"
   ]
  },
  {
   "cell_type": "code",
   "execution_count": 33,
   "metadata": {},
   "outputs": [
    {
     "data": {
      "text/plain": [
       "{'T4.0': [5.373757244912524e-31],\n",
       " 'T4.5': [1.4812681236960112e-29],\n",
       " 'T5.0': [2.7775031004276916e-29],\n",
       " 'T5.5': [1.743158035356604e-32],\n",
       " 'T6.0': [3.958882226055629e-39]}"
      ]
     },
     "execution_count": 33,
     "metadata": {},
     "output_type": "execute_result"
    }
   ],
   "source": [
    "OIII_5006_calcEMIS"
   ]
  },
  {
   "cell_type": "code",
   "execution_count": 57,
   "metadata": {},
   "outputs": [],
   "source": [
    "OIII_5006_calcEMIS={'T4.0':[],\n",
    "                    'T4.5':[],\n",
    "                    'T5.0':[],\n",
    "                    'T5.5':[],\n",
    "                    'T6.0':[]}\n",
    "OIII_5006=[]\n",
    "for i in range(0,len(OIIIfracs)):\n",
    "    gOIIIground5006 = 9 #we changed these\n",
    "    YcalOIII=2.29 #different for differnt lines \n",
    "    EOIII3P1D = energyoftrans(5006.84)\n",
    "    hDen=3.162300e-03\n",
    "    \n",
    "    nOIII=n_ion('O',hDen,OIIIfracs[i])\n",
    "    calc=Emist(edens[i],Temperature[i],YcalOIII,EOIII3P1D,gOIIIground5006,nOIII)\n",
    "    OIII_5006_calcEMIS[f\"T{Temperature[i]}\"].append(calc)\n",
    "    OIII_5006.append(calc)\n",
    "    \n",
    "    \n",
    "OIII_5006=(np.multiply(OIII_5006,.75))\n",
    "\n",
    "OIII_4958=(np.multiply(OIII_5006,.25))"
   ]
  },
  {
   "cell_type": "code",
   "execution_count": 35,
   "metadata": {},
   "outputs": [
    {
     "data": {
      "text/plain": [
       "<matplotlib.legend.Legend at 0x7fee112376d0>"
      ]
     },
     "execution_count": 35,
     "metadata": {},
     "output_type": "execute_result"
    },
    {
     "data": {
      "image/png": "[encoded data removed]",
      "text/plain": [
       "<Figure size 720x504 with 1 Axes>"
      ]
     },
     "metadata": {
      "needs_background": "light"
     },
     "output_type": "display_data"
    }
   ],
   "source": [
    "emis2321_vals=meta.loc['OIII 2321 Emis',:].values\n",
    "emis4958_vals=meta.loc['OIII 4958 Emis',:].values\n",
    "emis5006_vals=meta.loc['OIII 5006 Emis',:].values\n",
    "import matplotlib.pyplot as plt\n",
    "plt.figure(figsize=(10,7))\n",
    "plt.plot(Temperature,np.log10(emis2321_vals),label='OIII 2321 Cloudy')\n",
    "plt.plot(Temperature,np.log10(OIII_2321),'--k',label='OIII 2321 Calc')\n",
    "plt.ylabel('OIII 2321 Emis (log10)')\n",
    "plt.xlabel('Temp K (log10)')\n",
    "plt.title(\"Cloudy predicted emis of OIII 2321\")\n",
    "plt.legend()"
   ]
  },
  {
   "cell_type": "code",
   "execution_count": 58,
   "metadata": {},
   "outputs": [
    {
     "data": {
      "text/plain": [
       "<matplotlib.legend.Legend at 0x7fee11f97990>"
      ]
     },
     "execution_count": 58,
     "metadata": {},
     "output_type": "execute_result"
    },
    {
     "data": {
      "image/png": "[encoded data removed]",
      "text/plain": [
       "<Figure size 720x504 with 1 Axes>"
      ]
     },
     "metadata": {
      "needs_background": "light"
     },
     "output_type": "display_data"
    }
   ],
   "source": [
    "plt.figure(figsize=(10,7))\n",
    "plt.plot(Temperature,np.log10(emis4958_vals),label='OIII 4958 Emis')\n",
    "plt.plot(Temperature,np.log10(OIII_4958),'--k',label='OIII 4958 Calc')\n",
    "plt.ylabel('OIII 4958 Emis (log10)')\n",
    "plt.xlabel('Temp K (log10)')\n",
    "plt.title(\"Cloudy predicted emis of OIII 4958\")\n",
    "plt.legend()"
   ]
  },
  {
   "cell_type": "code",
   "execution_count": 59,
   "metadata": {},
   "outputs": [
    {
     "data": {
      "text/plain": [
       "<matplotlib.legend.Legend at 0x7fee12132350>"
      ]
     },
     "execution_count": 59,
     "metadata": {},
     "output_type": "execute_result"
    },
    {
     "data": {
      "image/png": "[encoded data removed]",
      "text/plain": [
       "<Figure size 720x504 with 1 Axes>"
      ]
     },
     "metadata": {
      "needs_background": "light"
     },
     "output_type": "display_data"
    }
   ],
   "source": [
    "plt.figure(figsize=(10,7))\n",
    "plt.plot(Temperature,np.log10(emis5006_vals),label='OIII 5006 Emis')\n",
    "plt.plot(Temperature,np.log10(OIII_5006),'--k',label='OIII 5006 Calc')\n",
    "plt.ylabel('OIII 5006 Emis (log10)')\n",
    "plt.xlabel('Temp K (log10)')\n",
    "plt.title(\"Cloudy predicted emis of OIII 5006\")\n",
    "plt.legend()"
   ]
  },
  {
   "cell_type": "code",
   "execution_count": 56,
   "metadata": {},
   "outputs": [
    {
     "name": "stdout",
     "output_type": "stream",
     "text": [
      "[-0.40596839 -0.32124632 -0.29280072 -0.25634715 -0.23180374]\n"
     ]
    },
    {
     "data": {
      "text/plain": [
       "array([-1.09466943, -1.01819475, -0.99236085, -0.95673451, -0.9324502 ])"
      ]
     },
     "execution_count": 56,
     "metadata": {},
     "output_type": "execute_result"
    }
   ],
   "source": [
    "print(np.log10(emis5006_vals)-np.log10(OIII_5006))\n",
    "np.log10(emis4958_vals)-np.log10(OIII_4958)\n",
    "\n",
    "#4958; [-0.85267688, -0.76795426, -0.73951213, -0.703061  , -0.67851587]\n",
    "#5006; [-0.97999966, -0.89527759, -0.86683199, -0.83037842, -0.805835  ]"
   ]
  },
  {
   "cell_type": "code",
   "execution_count": null,
   "metadata": {},
   "outputs": [],
   "source": [
    "import pyatomdb, numpy, pylab\n",
    "\n",
    "# We will get some maxwellian rates for a O 6+ 7->1\n",
    "\n",
    "Z = 8\n",
    "z1 = 7\n",
    "up = 7\n",
    "lo = 1\n",
    "\n",
    "# excitation\n",
    "\n",
    "Te = numpy.logspace(4, 7, 15)\n",
    "\n",
    "#  >>> # (1) Get excitation rates for row 12 of an Fe XVII file\n",
    "#  >>> colldata = pyatomdb.atomdb.get_data(26,17,'EC')\n",
    "#  >>> exc, dex = get_maxwell_rate(Te, colldata=colldata, index=12)\n",
    "\n",
    "#  >>> # (2) Get excitation rates for row 12 of an Fe XVII file\n",
    "#  >>> exc, dex = get_maxwell_rate(Te, Z=26,z1=17, index=12)\n",
    "\n",
    "#  >>>  (3) Get excitation rates for transitions from level 1 to 15 of FE XVII\n",
    "#  >>> exc, dex = get_maxwell_rate(Te, Z=26, z1=17, dtype='EC', finallev=15, initlev=1)\n",
    "\n",
    "datacache = {}\n",
    "\n",
    "# get data by specifying ion, upper and lower levels\n",
    "exc, dexc = pyatomdb.atomdb.get_maxwell_rate(Te, Z=Z, z1=z1, initlev = lo, finallev=up, dtype='EC', datacache=datacache)\n",
    "\n",
    "fig= pylab.figure()\n",
    "fig.show()\n",
    "ax = fig.add_subplot(111)\n",
    "ax.loglog(Te, exc, label='excitation')\n",
    "ax.loglog(Te, dexc, label = 'deexcitation')\n",
    "\n",
    "\n",
    "# preload data and find a specific transition\n",
    "ecdat = pyatomdb.atomdb.get_data(8,7,'EC', datacache=datacache)\n",
    "\n",
    "i = numpy.where( (ecdat[1].data['Upper_Lev']==up) &\\\n",
    "                 (ecdat[1].data['Lower_Lev']==lo))[0][0]\n",
    "\n",
    "exc, dex = pyatomdb.atomdb.get_maxwell_rate(Te,colldata=ecdat, index=i, datacache=datacache)\n",
    "\n",
    "ax.loglog(Te, exc, 'o', label='excitation')\n",
    "ax.loglog(Te, dexc, 'o', label = 'deexcitation')\n",
    "\n",
    "ax.legend(loc=0)\n",
    "ax.set_xlabel(\"Temperature (K)\")\n",
    "ax.set_ylabel(\"Rate Coefficient (cm$^3$ s$^{-1}$)\")\n",
    "\n",
    "pylab.draw()\n",
    "zzz=input(\"Press enter to continue\")\n",
    "# save image files\n",
    "fig.savefig('atomdb_examples_2_1.pdf')\n",
    "fig.savefig('atomdb_examples_2_1.svg')\n",
    "\n",
    "# you can also obtain ionization or recombination rates (see get_maxwell_rates writeup for options)\n",
    "# in most cases you need to specify initlev and finallev as 1 to get the ion to ion rates.\n",
    "\n",
    "ion= pyatomdb.atomdb.get_maxwell_rate(Te,Z=Z, z1=z1, initlev=1, finallev=1, dtype='CI', datacache=datacache)\n",
    "print(ion)\n",
    "#\n",
    "# However it is recommended that you use get_ionrec_rate instead - it gives you everythign in one go\n",
    "\n",
    "# combining the different types\n",
    "ion, rec = pyatomdb.atomdb.get_ionrec_rate(Te, Z=Z, z1=z1, datacache=datacache)\n",
    "\n",
    "# as separate entities\n",
    "CI, EA, RR, DR=pyatomdb.atomdb.get_ionrec_rate(Te, Z=Z, z1=z1, datacache=datacache, separate=True)\n",
    "\n",
    "print(\"Collisional ionization: \",CI)\n",
    "print(\"Excitation Autoionization: \",EA)\n",
    "print(\"Radiative Recombination: \",RR)\n",
    "print(\"Dielectroni Recombination: \",DR)\n",
    "ax.cla()\n",
    "\n",
    "ax.loglog(Te, ion, label='Ionization')\n",
    "ax.loglog(Te, rec, label='Recombination')\n",
    "\n",
    "ax.loglog(Te, CI, '--',label='CI')\n",
    "ax.loglog(Te, EA, '--',label='EA')\n",
    "ax.loglog(Te, RR, '--',label='RR')\n",
    "ax.loglog(Te, DR, '--',label='DR')\n",
    "\n",
    "ax.legend(loc=0)\n",
    "ax.set_xlabel(\"Temperature (K)\")\n",
    "ax.set_ylabel(\"Rate Coefficient (cm$^3$ s$^{-1}$)\")\n",
    "\n",
    "pylab.draw()\n",
    "zzz=input(\"Press enter to continue\")\n",
    "# save image files\n",
    "fig.savefig('atomdb_examples_2_2.pdf')\n",
    "fig.savefig('atomdb_examples_2_2.svg')\n",
    "\n",
    "\n",
    "#get_maxwell_rate(Te, colldata=False, index=-1, lvdata=False, Te_unit='K', \\\n",
    "#                     lvdatap1=False, ionpot = False, \\\n",
    "#                     force_extrap=False, silent=True,\\\n",
    "#                     finallev=False, initlev=False,\\\n",
    "#                     Z=-1, z1=-1, dtype=False, exconly=False,\\\n",
    "#                     datacache=False, settings=False, ladat=False):\n"
   ]
  },
  {
   "cell_type": "code",
   "execution_count": null,
   "metadata": {},
   "outputs": [],
   "source": []
  },
  {
   "cell_type": "code",
   "execution_count": null,
   "metadata": {},
   "outputs": [],
   "source": []
  },
  {
   "cell_type": "code",
   "execution_count": null,
   "metadata": {},
   "outputs": [],
   "source": []
  },
  {
   "cell_type": "code",
   "execution_count": 24,
   "metadata": {},
   "outputs": [
    {
     "data": {
      "text/plain": [
       "array([0.33516818, 0.33516861, 0.33516594, 0.33516405, 0.33516538])"
      ]
     },
     "execution_count": 24,
     "metadata": {},
     "output_type": "execute_result"
    }
   ],
   "source": [
    "doublet4958/doublet5006\n",
    "#cloudy ratio"
   ]
  },
  {
   "cell_type": "code",
   "execution_count": 25,
   "metadata": {},
   "outputs": [
    {
     "data": {
      "text/plain": [
       "array([1.63668019, 1.66806038, 1.67810834, 1.68129836, 1.6823084 ])"
      ]
     },
     "execution_count": 25,
     "metadata": {},
     "output_type": "execute_result"
    }
   ],
   "source": [
    "np.array(OIII_4958)/np.array(OIII_5006)\n",
    "#mathematica ratio"
   ]
  },
  {
   "cell_type": "code",
   "execution_count": null,
   "metadata": {},
   "outputs": [],
   "source": []
  }
 ],
 "metadata": {
  "kernelspec": {
   "display_name": "Python 3",
   "language": "python",
   "name": "python3"
  },
  "language_info": {
   "codemirror_mode": {
    "name": "ipython",
    "version": 3
   },
   "file_extension": ".py",
   "mimetype": "text/x-python",
   "name": "python",
   "nbconvert_exporter": "python",
   "pygments_lexer": "ipython3",
   "version": "3.7.5"
  }
 },
 "nbformat": 4,
 "nbformat_minor": 4
}
