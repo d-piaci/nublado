{
 "cells": [
  {
   "cell_type": "code",
   "execution_count": 2,
   "metadata": {},
   "outputs": [
    {
     "name": "stdout",
     "output_type": "stream",
     "text": [
      "warng pyCloudy config: pyCloudy works better with PyNeb\n"
     ]
    }
   ],
   "source": [
    "import pandas as pd\n",
    "import numpy as np\n",
    "import pyCloudy as pc\n",
    "import os\n",
    "pc.log_.level = 3;"
   ]
  },
  {
   "cell_type": "code",
   "execution_count": 3,
   "metadata": {},
   "outputs": [],
   "source": [
    "from __future__ import print_function\n",
    "from ipywidgets import interact, interactive, fixed, interact_manual\n",
    "import ipywidgets as widgets\n",
    "from ipywidgets import Button, Layout\n",
    "from IPython.display import display"
   ]
  },
  {
   "cell_type": "markdown",
   "metadata": {},
   "source": [
    "##### This will be the style for the button font"
   ]
  },
  {
   "cell_type": "code",
   "execution_count": 4,
   "metadata": {},
   "outputs": [
    {
     "data": {
      "text/html": [
       "<style>.myclass { color:white ; font-size:150%}\n"
      ],
      "text/plain": [
       "<IPython.core.display.HTML object>"
      ]
     },
     "metadata": {},
     "output_type": "display_data"
    }
   ],
   "source": [
    "%%html\n",
    "<style>.myclass { color:white ; font-size:150%}"
   ]
  },
  {
   "cell_type": "markdown",
   "metadata": {},
   "source": [
    " ## Create Input Script"
   ]
  },
  {
   "cell_type": "code",
   "execution_count": 35,
   "metadata": {},
   "outputs": [],
   "source": [
    "# Define path to executable\n",
    "dir_ = './'\n",
    "make='Model5' #will also be punch prefix\n",
    "pathtorun='{0}{1}'.format(dir_, make) #path to input script\n",
    "pathtoexec='/Users/danielpiacitelli/nublado/c17.02/source/cloudy.exe' #path to Cloudy executable "
   ]
  },
  {
   "cell_type": "markdown",
   "metadata": {},
   "source": [
    "##### Temperature command "
   ]
  },
  {
   "cell_type": "code",
   "execution_count": 12,
   "metadata": {},
   "outputs": [],
   "source": [
    "Topt='CONSTANT TEMPERATURE' #can also be SET TEMP"
   ]
  },
  {
   "cell_type": "markdown",
   "metadata": {},
   "source": [
    "##### Choose of which lines emisitivity is needed "
   ]
  },
  {
   "cell_type": "code",
   "execution_count": 13,
   "metadata": {},
   "outputs": [],
   "source": [
    "emis = ['H  1  4861.33A',\n",
    "        'H  1  6562.81A', \n",
    "        'O 6  1031.00A', \n",
    "        'O  6 1037.62A']"
   ]
  },
  {
   "cell_type": "code",
   "execution_count": null,
   "metadata": {},
   "outputs": [],
   "source": []
  },
  {
   "cell_type": "code",
   "execution_count": 14,
   "metadata": {},
   "outputs": [],
   "source": [
    "opti = ['CMB redshift 0.2000000',\n",
    "         'no molecules',\n",
    "         'Print column densities on'] #mostly miscellaneous manipulations"
   ]
  },
  {
   "cell_type": "code",
   "execution_count": 15,
   "metadata": {},
   "outputs": [
    {
     "name": "stdout",
     "output_type": "stream",
     "text": [
      "Temperature is in Kelvin and Linear, HDensity is in /cm^3 and Log, Metallicity is Log\n"
     ]
    },
    {
     "data": {
      "application/vnd.jupyter.widget-view+json": {
       "model_id": "88d8e673f9b049f1ac4db12f5b63988a",
       "version_major": 2,
       "version_minor": 0
      },
      "text/plain": [
       "interactive(children=(IntSlider(value=5, description='Temperature', max=8, style=SliderStyle(handle_color='#73…"
      ]
     },
     "metadata": {},
     "output_type": "display_data"
    }
   ],
   "source": [
    "def createinput(Temperature, HDensity, Metallicity):\n",
    "    T=Temperature #K Linear\n",
    "    H=HDensity #Log /cm^3\n",
    "    M=Metallicity #Log \n",
    "    distance= 300000.0 # Linear kpc and mostly meaningless for CGM purposes\n",
    "    manip= ['{0} {1}'.format('metals', str(M))] + ['{0} {1} {2}'.format(Topt, '1e0'+str(T), 'K linear')] + opti\n",
    "    stop= ['proton column density 15.500000','temperature = 10000K [linear]'] #stopping criteria\n",
    "    run = pc.CloudyInput(pathtorun);\n",
    "    run.set_cste_density(H, ff = None );run.set_distance(dist=distance, unit='kpc', linear=True);\n",
    "    run.set_abund(nograins = True);\n",
    "    run.set_iterate() # (0) = no iteration, () = 1 iteration, (N) = N iterations\n",
    "    run.set_emis_tab(emis); #insert list of desired lines\n",
    "    run.set_other(manip);\n",
    "    run.set_stop(stop); #will insert our stopping criteria\n",
    "    run.print_input(to_file = True, verbose = False)\n",
    "    return run\n",
    "print(\"Temperature is in Kelvin and Linear, HDensity is in /cm^3 and Log, Metallicity is Log\")\n",
    "T=widgets.IntSlider(value=5,min=0,step=1,max=8); H=widgets.FloatSlider(value=-2.5,min=-6,max=1,step=0.25); M=widgets.IntSlider(value=-1,min=-5,max=1,step=1);\n",
    "ui = widgets.HBox([T, H, M])\n",
    "T.style.handle_color = '#738678';H.style.handle_color = '#738678';M.style.handle_color = '#738678';\n",
    "interact(createinput,Temperature=T,HDensity=H,Metallicity=M);"
   ]
  },
  {
   "cell_type": "code",
   "execution_count": 10,
   "metadata": {},
   "outputs": [
    {
     "data": {
      "application/vnd.jupyter.widget-view+json": {
       "model_id": "c40f5fc2f88044b0a282415dbf24c324",
       "version_major": 2,
       "version_minor": 0
      },
      "text/plain": [
       "Button(description='Run Cloudy with last run file', layout=Layout(height='80px', width='50%'), style=ButtonSty…"
      ]
     },
     "metadata": {},
     "output_type": "display_data"
    },
    {
     "data": {
      "application/vnd.jupyter.widget-view+json": {
       "model_id": "bd552c88356b47978a9d4764f52a5d18",
       "version_major": 2,
       "version_minor": 0
      },
      "text/plain": [
       "Output()"
      ]
     },
     "metadata": {},
     "output_type": "display_data"
    }
   ],
   "source": [
    "b = Button(description='Run Cloudy with last run file',layout=Layout(width='50%', height='80px'))\n",
    "b.style.button_color = '#738678';b.add_class('myclass')\n",
    "output = widgets.Output()\n",
    "def runCloudy(b):\n",
    "    run = pc.CloudyInput(pathtorun);\n",
    "    pc.config.cloudy_exe = pathtoexec;\n",
    "    pc.log_.timer('Starting Cloudy', quiet = True)\n",
    "    run.run_cloudy()\n",
    "    with output:\n",
    "        pc.log_.message('Ran {0}'.format(make))\n",
    "        pc.log_.timer('Cloudy ended after seconds:')   \n",
    "display(b, output)\n",
    "b.on_click(runCloudy)"
   ]
  },
  {
   "cell_type": "code",
   "execution_count": null,
   "metadata": {},
   "outputs": [],
   "source": []
  },
  {
   "cell_type": "markdown",
   "metadata": {},
   "source": [
    "## Pandas Tables"
   ]
  },
  {
   "cell_type": "markdown",
   "metadata": {},
   "source": [
    "##### Returns ovr table with Temperature, Htot, hydrogen density, e density, and OVI density"
   ]
  },
  {
   "cell_type": "code",
   "execution_count": 39,
   "metadata": {},
   "outputs": [
    {
     "data": {
      "text/html": [
       "<div>\n",
       "<style scoped>\n",
       "    .dataframe tbody tr th:only-of-type {\n",
       "        vertical-align: middle;\n",
       "    }\n",
       "\n",
       "    .dataframe tbody tr th {\n",
       "        vertical-align: top;\n",
       "    }\n",
       "\n",
       "    .dataframe thead th {\n",
       "        text-align: right;\n",
       "    }\n",
       "</style>\n",
       "<table border=\"1\" class=\"dataframe\">\n",
       "  <thead>\n",
       "    <tr style=\"text-align: right;\">\n",
       "      <th></th>\n",
       "      <th>#depth</th>\n",
       "      <th>Te</th>\n",
       "      <th>Htot</th>\n",
       "      <th>hden</th>\n",
       "      <th>eden</th>\n",
       "      <th>O5</th>\n",
       "    </tr>\n",
       "  </thead>\n",
       "  <tbody>\n",
       "  </tbody>\n",
       "</table>\n",
       "</div>"
      ],
      "text/plain": [
       "Empty DataFrame\n",
       "Columns: [#depth, Te, Htot, hden, eden, O5]\n",
       "Index: []"
      ]
     },
     "execution_count": 39,
     "metadata": {},
     "output_type": "execute_result"
    }
   ],
   "source": [
    "vari='.ovr'\n",
    "table=pd.read_csv('{0}{1}'.format(make, vari),delimiter='\t')\n",
    "ovr=table.loc[:,['#depth','Te','Htot','hden','eden','O5']]\n",
    "#Temp=np.log10(ovr.loc[1,\"Te\"])\n",
    "ovr"
   ]
  },
  {
   "cell_type": "markdown",
   "metadata": {},
   "source": [
    "##### Returns emis table with Emissivity of H 1 4861.33A, H 1 6562.81A, O 6 1031.00A, O 6 1037.62A"
   ]
  },
  {
   "cell_type": "code",
   "execution_count": 38,
   "metadata": {},
   "outputs": [
    {
     "data": {
      "text/html": [
       "<div>\n",
       "<style scoped>\n",
       "    .dataframe tbody tr th:only-of-type {\n",
       "        vertical-align: middle;\n",
       "    }\n",
       "\n",
       "    .dataframe tbody tr th {\n",
       "        vertical-align: top;\n",
       "    }\n",
       "\n",
       "    .dataframe thead th {\n",
       "        text-align: right;\n",
       "    }\n",
       "</style>\n",
       "<table border=\"1\" class=\"dataframe\">\n",
       "  <thead>\n",
       "    <tr style=\"text-align: right;\">\n",
       "      <th></th>\n",
       "      <th>#depth</th>\n",
       "      <th>H1-4861.33A</th>\n",
       "      <th>H1-6562.81A</th>\n",
       "      <th>O6-1031.91A</th>\n",
       "      <th>O6-1037.62A</th>\n",
       "    </tr>\n",
       "  </thead>\n",
       "  <tbody>\n",
       "    <tr>\n",
       "      <th>0</th>\n",
       "      <td>2.500000e+16</td>\n",
       "      <td>0.0</td>\n",
       "      <td>0.0</td>\n",
       "      <td>0.0</td>\n",
       "      <td>0.0</td>\n",
       "    </tr>\n",
       "  </tbody>\n",
       "</table>\n",
       "</div>"
      ],
      "text/plain": [
       "         #depth  H1-4861.33A  H1-6562.81A  O6-1031.91A  O6-1037.62A\n",
       "0  2.500000e+16          0.0          0.0          0.0          0.0"
      ]
     },
     "execution_count": 38,
     "metadata": {},
     "output_type": "execute_result"
    }
   ],
   "source": [
    "vari='.emis'\n",
    "emis=pd.read_csv('{0}{1}'.format(make, vari),delimiter='\t')\n",
    "emis.columns=['#depth','H1-4861.33A', 'H1-6562.81A', 'O6-1031.91A','O6-1037.62A']\n",
    "\n",
    "#isolates the 1031 and 1037 lines as independent tables\n",
    "tenthirtyone= emis.loc[:,'O6-1031.91A'] \n",
    "tenthirtyseven= emis.loc[:,'O6-1037.62A']\n",
    "\n",
    "#tenthirtyone\n",
    "#tenthirtyseven\n",
    "emis"
   ]
  },
  {
   "cell_type": "markdown",
   "metadata": {},
   "source": [
    "##### Returns eleH table with H\tH+\tH2 probabilites for each zone"
   ]
  },
  {
   "cell_type": "code",
   "execution_count": 23,
   "metadata": {},
   "outputs": [],
   "source": [
    "#returns eleH table with H\tH+\tH2 probabilites for each zone\n",
    "\n",
    "vari='.ele_H'\n",
    "eleH=pd.read_csv('{0}{1}'.format(make, vari),delimiter='\t')\n",
    "#print(eleH)\n",
    "#returns eleO table with O\tO+\tO+2\tO+3\tO+4\tO+5\tO+6\tO+7\tO+8\tO[1]\tO[2]\tO[3] probabilites for each zone\n",
    "vari='.ele_O'\n",
    "eleO=pd.read_csv('{0}{1}'.format(make,vari),delimiter='\t')\n",
    "#eleO"
   ]
  },
  {
   "cell_type": "markdown",
   "metadata": {},
   "source": [
    "##### Returns table OVI_prob with OVI probabilites for each zone"
   ]
  },
  {
   "cell_type": "code",
   "execution_count": 24,
   "metadata": {},
   "outputs": [],
   "source": [
    "OVI_prob = eleO.loc[:,['#depth', 'O+5']]\n",
    "#OVI_prob"
   ]
  },
  {
   "cell_type": "markdown",
   "metadata": {},
   "source": [
    "## Calculations"
   ]
  },
  {
   "cell_type": "markdown",
   "metadata": {},
   "source": [
    "##### Returns single float of OVI fraction, electron density, emissivity of OVI1031/OVI1037, and total emissivity of OVI"
   ]
  },
  {
   "cell_type": "code",
   "execution_count": 25,
   "metadata": {},
   "outputs": [
    {
     "name": "stdout",
     "output_type": "stream",
     "text": [
      "The OVI fraction is 0.0\n",
      "The electron density is 2.0927e-17\n",
      "The emissivity of OVI1031 is 0.0\n",
      "The emissivity of OVI1037 is 0.0\n",
      "The total emissivity of OVI is 0.0\n"
     ]
    }
   ],
   "source": [
    "O6frac=np.average(OVI_prob.loc[:,'O+5'].values)\n",
    "#O6total=np.average(ovr.loc[:,'eden'].values)\n",
    "eden=np.average(ovr.loc[:,'eden'].values)\n",
    "emis1031=np.average(tenthirtyone.values)\n",
    "emis1037=np.average(tenthirtyseven.values)\n",
    "hden=np.average(ovr.loc[:,'hden'].values)\n",
    "\n",
    "print('The OVI fraction is',O6frac)\n",
    "#print('OVI total is',O6total)\n",
    "print('The electron density is',eden)\n",
    "print('The emissivity of OVI1031 is',emis1031)\n",
    "print('The emissivity of OVI1037 is',emis1037)\n",
    "print('The total emissivity of OVI is',emis1037+emis1037)"
   ]
  },
  {
   "cell_type": "markdown",
   "metadata": {},
   "source": [
    "##### Gives number of oxygnVI and Column Densities"
   ]
  },
  {
   "cell_type": "code",
   "execution_count": 26,
   "metadata": {},
   "outputs": [
    {
     "name": "stdout",
     "output_type": "stream",
     "text": [
      "nOVI is 0.0\n",
      "Column density of OVI is 0.0\n"
     ]
    }
   ],
   "source": [
    "Noxy_Sol=10**-3.309\n",
    "Zsol=10**-1\n",
    "nOVI=O6frac*Zsol*Noxy_Sol\n",
    "print('nOVI is',nOVI)\n",
    "length=ovr.loc[:,\"#depth\"].max() -  ovr.loc[:,\"#depth\"].min()\n",
    "N_OVI=nOVI*length\n",
    "print('Column density of OVI is',N_OVI)"
   ]
  },
  {
   "cell_type": "markdown",
   "metadata": {},
   "source": [
    "## This will give you the list of classes for th cloudy output"
   ]
  },
  {
   "cell_type": "code",
   "execution_count": 27,
   "metadata": {},
   "outputs": [],
   "source": [
    "#Mod = pc.CloudyModel(pathtorun);\n",
    "# dir(Mod) #remove # at beginning to print list"
   ]
  },
  {
   "cell_type": "code",
   "execution_count": 11,
   "metadata": {},
   "outputs": [
    {
     "name": "stdout",
     "output_type": "stream",
     "text": [
      "H__1_486133A 1.931812e+44\n",
      "H__1_656281A 5.251109e+44\n",
      "O__6_103100A 2.411241e+40\n",
      "O__6_103762A 1.199328e+40\n",
      " Name of the model: ./ASTR302\n",
      " R_in (cut) = 1.000e+30 (1.000e+30), R_out (cut) = 1.000e+30 (1.000e+30)\n",
      " H+ mass = 3.34e+19, H mass = 3.34e+19 N zones: 33\n",
      " <H+/H> = 1.00, <He++/He> = 1.00, <He+/He> = 0.00\n",
      " <O+++/O> = 0.00, <O++/O> = 0.00, <O+/O> = 0.00\n",
      " <N+++/N> = 0.00, <N++/N> = 0.00, <N+/N> = 0.00\n",
      " T(O+++) = 100000000, T(O++) = 100000000, T(O+) = 100000000\n",
      " <ne> = 0,  <nH> = 0, T0 = 100000000, t2=0.0000\n",
      " <log U> = -2.11\n"
     ]
    }
   ],
   "source": [
    "Mod.print_lines()\n",
    "Mod.print_stats()"
   ]
  },
  {
   "cell_type": "markdown",
   "metadata": {},
   "source": [
    "## Save Simulation data for future use"
   ]
  },
  {
   "cell_type": "code",
   "execution_count": 170,
   "metadata": {},
   "outputs": [],
   "source": [
    "# run this once \n",
    "location=0"
   ]
  },
  {
   "cell_type": "code",
   "execution_count": 28,
   "metadata": {},
   "outputs": [
    {
     "data": {
      "text/html": [
       "<div>\n",
       "<style scoped>\n",
       "    .dataframe tbody tr th:only-of-type {\n",
       "        vertical-align: middle;\n",
       "    }\n",
       "\n",
       "    .dataframe tbody tr th {\n",
       "        vertical-align: top;\n",
       "    }\n",
       "\n",
       "    .dataframe thead th {\n",
       "        text-align: right;\n",
       "    }\n",
       "</style>\n",
       "<table border=\"1\" class=\"dataframe\">\n",
       "  <thead>\n",
       "    <tr style=\"text-align: right;\">\n",
       "      <th></th>\n",
       "      <th>Temp:1e3.0 K , hden: -2.5</th>\n",
       "    </tr>\n",
       "  </thead>\n",
       "  <tbody>\n",
       "    <tr>\n",
       "      <th>H Density Log /cm^3</th>\n",
       "      <td>3.162300e-03</td>\n",
       "    </tr>\n",
       "    <tr>\n",
       "      <th>e Density Log /cm^3</th>\n",
       "      <td>2.092700e-17</td>\n",
       "    </tr>\n",
       "    <tr>\n",
       "      <th>OVI Probability</th>\n",
       "      <td>0.000000e+00</td>\n",
       "    </tr>\n",
       "    <tr>\n",
       "      <th>OVI 1031+1037 Emis</th>\n",
       "      <td>0.000000e+00</td>\n",
       "    </tr>\n",
       "  </tbody>\n",
       "</table>\n",
       "</div>"
      ],
      "text/plain": [
       "                     Temp:1e3.0 K , hden: -2.5\n",
       "H Density Log /cm^3               3.162300e-03\n",
       "e Density Log /cm^3               2.092700e-17\n",
       "OVI Probability                   0.000000e+00\n",
       "OVI 1031+1037 Emis                0.000000e+00"
      ]
     },
     "execution_count": 28,
     "metadata": {},
     "output_type": "execute_result"
    }
   ],
   "source": [
    "# run this once \n",
    "SimuDatKeyset=['H Density Log /cm^3','e Density Log /cm^3','OVI Probability','OVI 1031+1037 Emis']\n",
    "SimnDat=[hden, eden,O6frac,emis1031+emis1037]\n",
    "matrix={SimuDatKeyset[0]:[SimnDat[0]],SimuDatKeyset[1]:[SimnDat[1]],SimuDatKeyset[2]:[SimnDat[2]],SimuDatKeyset[3]:[SimnDat[3]]}\n",
    "PastSimulationData=pd.DataFrame(data=matrix,index={f\"Temp:1e{Temp:1.1f} K , hden: {np.log10(hden):1.1f}\"}).transpose()\n",
    "PastSimulationData"
   ]
  },
  {
   "cell_type": "code",
   "execution_count": 198,
   "metadata": {},
   "outputs": [],
   "source": [
    "SimnDat=[hden, eden,O6frac,emis1031+emis1037]"
   ]
  },
  {
   "cell_type": "markdown",
   "metadata": {},
   "source": [
    "##### This will add new sim data to table"
   ]
  },
  {
   "cell_type": "code",
   "execution_count": 221,
   "metadata": {},
   "outputs": [],
   "source": [
    "location=location+1\n",
    "PastSimulationData.insert(location,f\"Temp:1e{Temp:1.1f} K , hden: {np.log10(hden):1.1f}\",SimnDat)"
   ]
  },
  {
   "cell_type": "code",
   "execution_count": 222,
   "metadata": {},
   "outputs": [
    {
     "data": {
      "text/html": [
       "<div>\n",
       "<style scoped>\n",
       "    .dataframe tbody tr th:only-of-type {\n",
       "        vertical-align: middle;\n",
       "    }\n",
       "\n",
       "    .dataframe tbody tr th {\n",
       "        vertical-align: top;\n",
       "    }\n",
       "\n",
       "    .dataframe thead th {\n",
       "        text-align: right;\n",
       "    }\n",
       "</style>\n",
       "<table border=\"1\" class=\"dataframe\">\n",
       "  <thead>\n",
       "    <tr style=\"text-align: right;\">\n",
       "      <th></th>\n",
       "      <th>Temp:1e7.0 K , hden: -2.5</th>\n",
       "      <th>Temp:1e7.0 K , hden: -2.0</th>\n",
       "      <th>Temp:1e8.0 K , hden: -2.5</th>\n",
       "    </tr>\n",
       "  </thead>\n",
       "  <tbody>\n",
       "    <tr>\n",
       "      <th>H Density Log /cm^3</th>\n",
       "      <td>3.162300e-03</td>\n",
       "      <td>1.000000e-02</td>\n",
       "      <td>1.000000e-02</td>\n",
       "    </tr>\n",
       "    <tr>\n",
       "      <th>e Density Log /cm^3</th>\n",
       "      <td>3.797497e-03</td>\n",
       "      <td>1.200900e-02</td>\n",
       "      <td>1.200900e-02</td>\n",
       "    </tr>\n",
       "    <tr>\n",
       "      <th>OVI Probability</th>\n",
       "      <td>3.160000e-07</td>\n",
       "      <td>3.170000e-07</td>\n",
       "      <td>3.170000e-07</td>\n",
       "    </tr>\n",
       "    <tr>\n",
       "      <th>OVI 1031+1037 Emis</th>\n",
       "      <td>5.741494e-35</td>\n",
       "      <td>5.555100e-34</td>\n",
       "      <td>5.555100e-34</td>\n",
       "    </tr>\n",
       "  </tbody>\n",
       "</table>\n",
       "</div>"
      ],
      "text/plain": [
       "                     Temp:1e7.0 K , hden: -2.5  Temp:1e7.0 K , hden: -2.0  \\\n",
       "H Density Log /cm^3               3.162300e-03               1.000000e-02   \n",
       "e Density Log /cm^3               3.797497e-03               1.200900e-02   \n",
       "OVI Probability                   3.160000e-07               3.170000e-07   \n",
       "OVI 1031+1037 Emis                5.741494e-35               5.555100e-34   \n",
       "\n",
       "                     Temp:1e8.0 K , hden: -2.5  \n",
       "H Density Log /cm^3               1.000000e-02  \n",
       "e Density Log /cm^3               1.200900e-02  \n",
       "OVI Probability                   3.170000e-07  \n",
       "OVI 1031+1037 Emis                5.555100e-34  "
      ]
     },
     "execution_count": 222,
     "metadata": {},
     "output_type": "execute_result"
    }
   ],
   "source": [
    "PastSimulationData"
   ]
  },
  {
   "cell_type": "markdown",
   "metadata": {},
   "source": [
    "### Save PastSimulationData as csv file"
   ]
  },
  {
   "cell_type": "code",
   "execution_count": null,
   "metadata": {},
   "outputs": [],
   "source": [
    "PastSimulationData.to_csv('./CloudyDataTables/SimulationData.csv',index=True)"
   ]
  },
  {
   "cell_type": "code",
   "execution_count": 220,
   "metadata": {},
   "outputs": [],
   "source": []
  },
  {
   "cell_type": "code",
   "execution_count": null,
   "metadata": {},
   "outputs": [],
   "source": []
  }
 ],
 "metadata": {
  "kernelspec": {
   "display_name": "Python 3",
   "language": "python",
   "name": "python3"
  },
  "language_info": {
   "codemirror_mode": {
    "name": "ipython",
    "version": 3
   },
   "file_extension": ".py",
   "mimetype": "text/x-python",
   "name": "python",
   "nbconvert_exporter": "python",
   "pygments_lexer": "ipython3",
   "version": "3.7.5"
  }
 },
 "nbformat": 4,
 "nbformat_minor": 4
}
